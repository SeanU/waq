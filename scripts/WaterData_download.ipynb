{
 "cells": [
  {
   "cell_type": "code",
   "execution_count": null,
   "metadata": {
    "collapsed": false
   },
   "outputs": [],
   "source": [
    "import requests\n",
    "import re\n",
    "import datetime as dt\n",
    "import dateutil.parser as du"
   ]
  },
  {
   "cell_type": "code",
   "execution_count": null,
   "metadata": {
    "collapsed": true
   },
   "outputs": [],
   "source": [
    "#function to download a file stream\n",
    "\n",
    "def downloadFile(url):\n",
    "    local_filename = re.sub(r'\\W', '', url.split('/')[-1]) + '.zip'\n",
    "    # NOTE the stream=True parameter\n",
    "    r = requests.get(url, stream=True)\n",
    "    with open(local_filename, 'wb') as f:\n",
    "        for chunk in r.iter_content(chunk_size=1024): \n",
    "            if chunk: # filter out keep-alive new chunks\n",
    "                f.write(chunk)\n",
    "                #f.flush() commented by recommendation from J.F.Sebastian\n",
    "    return local_filename"
   ]
  },
  {
   "cell_type": "code",
   "execution_count": null,
   "metadata": {
    "collapsed": false
   },
   "outputs": [],
   "source": [
    "#generates the URL to pull data from the Water Quality Portal\n",
    "\n",
    "def generateUrl(state='CA', startDate=None, endDate=None):\n",
    "    \"\"\"\n",
    "    generates a URL from the inputs for th WQP service\n",
    "    \n",
    "    ::state::  [string] a two-character FIPS US state code\n",
    "    ::startDate::  [string|none] beginning date of the query, `None` uses yesterday's date\n",
    "    ::endDate::  [string|none] end date of the query, `None` uses today's date\n",
    "    \n",
    "    note: ambiguous day and month combinations will defaul to the US standard of\n",
    "          month/day/year. \n",
    "    \"\"\"\n",
    "    #dictionary of FIPS state codes for US states and territories\n",
    "    state_codes = {'AL': '01', 'AK': '02', 'AS': '60', 'AZ': '04', 'AR': '05', 'CA': '06', \n",
    "                   'CO': '08', 'CT': '09', 'DE': '10', 'DC': '11', 'FL': '12', 'FM': '64', \n",
    "                   'GA': '13', 'GU': '66', 'HI': '15', 'ID': '16', 'IL': '17', 'IN': '18', \n",
    "                   'IA': '19', 'KS': '20', 'KY': '21', 'LA': '22', 'ME': '23', 'MH': '68', \n",
    "                   'MD': '24', 'MA': '25', 'MI': '26', 'MN': '27', 'MS': '28', 'MO': '29', \n",
    "                   'MT': '30', 'NE': '31', 'NV': '32', 'NH': '33', 'NJ': '34', 'NM': '35', \n",
    "                   'NY': '36', 'NC': '37', 'ND': '38', 'MP': '69', 'OH': '39', 'OK': '40', \n",
    "                   'OR': '41', 'PW': '70', 'PA': '42', 'PR': '72', 'RI': '44', 'SC': '45', \n",
    "                   'SD': '46', 'TN': '47', 'TX': '48', 'UM': '74', 'UT': '49', 'VT': '50', \n",
    "                   'VA': '51', 'VI': '78', 'WA': '53', 'WV': '54', 'WI': '55', 'WY': '56'}\n",
    "    \n",
    "    #check for the proper state input\n",
    "    assert isinstance(state, str), '`state` must be a two letter string in the FIPS state codes'\n",
    "     \n",
    "    \n",
    "    \n",
    "    #states are referred to by a number based on the above dictionary\n",
    "    #translate state abrievation input into the correct number\n",
    "    stateNo = state_codes[state.upper()]\n",
    "    \n",
    "    #convert startdate into correct format\n",
    "    if startDate:\n",
    "        start = dt.date.strftime(du.parse(startDate), '%m-%d-%Y')\n",
    "    else:\n",
    "        start = dt.date.strftime(dt.date.today() + dt.timedelta(-1), '%m-%d-%Y')\n",
    "    \n",
    "    if endDate:\n",
    "        end = dt.date.strftime(du.parse(endDate), '%m-%d-%Y')\n",
    "    else:\n",
    "        end = dt.date.strftime(dt.date.today(), '%m-%d-%Y')\n",
    "    \n",
    "    \n",
    "    url = ('http://www.waterqualitydata.us/Result/search?'\n",
    "           +'countrycode=US'+'&statecode=' + stateNo\n",
    "           +'&startDataLo=' + start\n",
    "           +'&startDateHi=' + end\n",
    "           +'&mimeType=tsv&zip=yes&sorted=no')\n",
    "    \n",
    "    return url"
   ]
  },
  {
   "cell_type": "code",
   "execution_count": null,
   "metadata": {
    "collapsed": false
   },
   "outputs": [],
   "source": [
    "#to download all of the data, use an early startDate and leave endDate as None\n",
    "#to just download the last days data leave both startDate and endDate as None\n",
    "downloadFile(generateUrl('CA', startDate='01-01-1980'))"
   ]
  },
  {
   "cell_type": "code",
   "execution_count": null,
   "metadata": {
    "collapsed": true
   },
   "outputs": [],
   "source": []
  },
  {
   "cell_type": "code",
   "execution_count": null,
   "metadata": {
    "collapsed": true
   },
   "outputs": [],
   "source": []
  },
  {
   "cell_type": "code",
   "execution_count": null,
   "metadata": {
    "collapsed": true
   },
   "outputs": [],
   "source": []
  }
 ],
 "metadata": {
  "kernelspec": {
   "display_name": "Python 2",
   "language": "python",
   "name": "python2"
  },
  "language_info": {
   "codemirror_mode": {
    "name": "ipython",
    "version": 2
   },
   "file_extension": ".py",
   "mimetype": "text/x-python",
   "name": "python",
   "nbconvert_exporter": "python",
   "pygments_lexer": "ipython2",
   "version": "2.7.11"
  }
 },
 "nbformat": 4,
 "nbformat_minor": 0
}
