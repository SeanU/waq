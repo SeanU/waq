{
 "cells": [
  {
   "cell_type": "code",
   "execution_count": 1,
   "metadata": {
    "collapsed": false
   },
   "outputs": [],
   "source": [
    "import csv\n",
    "import numpy as np\n",
    "import pandas as pd\n",
    "import re\n",
    "\n",
    "from os import path\n",
    "\n",
    "pd.options.display.max_columns = None"
   ]
  },
  {
   "cell_type": "code",
   "execution_count": 2,
   "metadata": {
    "collapsed": false
   },
   "outputs": [],
   "source": [
    "rootdir = '../data/water'\n",
    "\n",
    "input_file = 'CA-result.csv'\n",
    "measure_to_measure_group = 'measure-to-measuregroup.csv'\n",
    "\n",
    "input_base = path.splitext(input_file)[0]\n",
    "\n",
    "bad_values = 'badvalues.rejects.csv'\n",
    "unmatched_measures = 'unmatched-measures.rejects.csv'\n",
    "unmapped_units = 'unmapped-units.rejects.csv'\n",
    "result_clean = 'clean.csv'\n",
    "\n",
    "def makepath(suf):\n",
    "    file = input_base + '-' + suf\n",
    "    print(file)\n",
    "    return path.join(rootdir, file)"
   ]
  },
  {
   "cell_type": "code",
   "execution_count": 3,
   "metadata": {
    "collapsed": false
   },
   "outputs": [],
   "source": [
    "data_columns = [\n",
    "    'ActivityMediaName', \n",
    "    'ActivityMediaSubdivisionName',\n",
    "    'ActivityStartDate', \n",
    "    'ActivityStartTime/Time',\n",
    "    'ActivityStartTime/TimeZoneCode', \n",
    "    'MonitoringLocationIdentifier', \n",
    "    'CharacteristicName',\n",
    "    'ResultMeasureValue', \n",
    "    'ResultMeasure/MeasureUnitCode',\n",
    "    'ResultCommentText',\n",
    "    'OrganizationIdentifier', \n",
    "    'OrganizationFormalName',\n",
    "    'ActivityTypeCode',\n",
    "    'ResultSampleFractionText',\n",
    "    'MeasureQualifierCode',\n",
    "    'ResultStatusIdentifier',\n",
    "    'ResultAnalyticalMethod/MethodIdentifier',\n",
    "    'ResultAnalyticalMethod/MethodName',\n",
    "    'ResultLaboratoryCommentText'\n",
    "]\n",
    "\n",
    "activity_media = ['Water']"
   ]
  },
  {
   "cell_type": "code",
   "execution_count": 4,
   "metadata": {
    "collapsed": false
   },
   "outputs": [
    {
     "name": "stderr",
     "output_type": "stream",
     "text": [
      "<string>:2: DtypeWarning: Columns (5,44,51,35,32,57,36,33,53) have mixed types. Specify dtype option on import or set low_memory=False.\n"
     ]
    },
    {
     "name": "stdout",
     "output_type": "stream",
     "text": [
      "CPU times: user 1min 17s, sys: 17.8 s, total: 1min 35s\n",
      "Wall time: 1min 50s\n"
     ]
    }
   ],
   "source": [
    "%%time\n",
    "data = pd.read_csv(path.join(rootdir, input_file),\n",
    "                  error_bad_lines=False,\n",
    "                  usecols=data_columns)\n",
    "\n",
    "len(data)"
   ]
  },
  {
   "cell_type": "code",
   "execution_count": 5,
   "metadata": {
    "collapsed": false
   },
   "outputs": [],
   "source": [
    "data[\"Value\"] = pd.to_numeric(data.ResultMeasureValue, errors='coerce')"
   ]
  },
  {
   "cell_type": "code",
   "execution_count": 6,
   "metadata": {
    "collapsed": false
   },
   "outputs": [
    {
     "data": {
      "text/plain": [
       "12392050"
      ]
     },
     "execution_count": 6,
     "metadata": {},
     "output_type": "execute_result"
    }
   ],
   "source": [
    "data = data[data.ActivityMediaName.isin(activity_media)]\n",
    "len(data)"
   ]
  },
  {
   "cell_type": "code",
   "execution_count": 7,
   "metadata": {
    "collapsed": false
   },
   "outputs": [
    {
     "name": "stdout",
     "output_type": "stream",
     "text": [
      "CA-result-badvalues.rejects.csv\n",
      "1581450\n"
     ]
    }
   ],
   "source": [
    "badValues = data.loc[pd.isnull(data.Value)]\n",
    "badValues.to_csv(makepath(bad_values), index=False, quoting=csv.QUOTE_ALL)\n",
    "print(len(badValues))\n",
    "del badValues"
   ]
  },
  {
   "cell_type": "code",
   "execution_count": 8,
   "metadata": {
    "collapsed": false
   },
   "outputs": [
    {
     "data": {
      "text/plain": [
       "10810600"
      ]
     },
     "execution_count": 8,
     "metadata": {},
     "output_type": "execute_result"
    }
   ],
   "source": [
    "data = data[pd.notnull(data.Value)]\n",
    "len(data)"
   ]
  },
  {
   "cell_type": "code",
   "execution_count": 9,
   "metadata": {
    "collapsed": false
   },
   "outputs": [],
   "source": [
    "measures = pd.read_csv(path.join(rootdir, measure_to_measure_group))\n",
    "# measures"
   ]
  },
  {
   "cell_type": "code",
   "execution_count": 10,
   "metadata": {
    "collapsed": false
   },
   "outputs": [
    {
     "name": "stdout",
     "output_type": "stream",
     "text": [
      "CPU times: user 5.14 s, sys: 4.24 s, total: 9.38 s\n",
      "Wall time: 11.8 s\n"
     ]
    }
   ],
   "source": [
    "%%time\n",
    "measureMap = pd.DataFrame(data.CharacteristicName.unique(), columns=['CharacteristicName'])\n",
    "\n",
    "for _,row in measures.iterrows():\n",
    "    pattern = re.compile(row.Pattern, re.IGNORECASE)\n",
    "    matches = measureMap.CharacteristicName.str.contains(row.Pattern, case=False)\n",
    "    measureMap.loc[matches, 'MeasureGroup'] = row.MeasureGroup\n",
    "    measureMap.loc[matches, 'MCLG'] = row.MCLG\n",
    "    measureMap.loc[matches, 'Unit'] = row.Unit\n",
    "    \n",
    "measureMap = measureMap[pd.notnull(measureMap.MeasureGroup)]\n",
    "data = pd.merge(data, measureMap, on='CharacteristicName')"
   ]
  },
  {
   "cell_type": "code",
   "execution_count": 11,
   "metadata": {
    "collapsed": false
   },
   "outputs": [
    {
     "data": {
      "text/plain": [
       "159619"
      ]
     },
     "execution_count": 11,
     "metadata": {},
     "output_type": "execute_result"
    }
   ],
   "source": [
    "len(data[data.MeasureGroup == 'Nitrate'])"
   ]
  },
  {
   "cell_type": "code",
   "execution_count": 12,
   "metadata": {
    "collapsed": false
   },
   "outputs": [
    {
     "name": "stdout",
     "output_type": "stream",
     "text": [
      "CA-result-unmatched-measures.rejects.csv\n",
      "0\n"
     ]
    }
   ],
   "source": [
    "nonMatchingMeasures = data.loc[pd.isnull(data.MeasureGroup), 'CharacteristicName'].unique()\n",
    "pd.DataFrame(nonMatchingMeasures).to_csv(makepath(unmatched_measures), \n",
    "                                         index=False, quoting=csv.QUOTE_ALL)\n",
    "print(len(nonMatchingMeasures))\n",
    "del nonMatchingMeasures"
   ]
  },
  {
   "cell_type": "code",
   "execution_count": 13,
   "metadata": {
    "collapsed": false
   },
   "outputs": [
    {
     "name": "stdout",
     "output_type": "stream",
     "text": [
      "742224\n"
     ]
    }
   ],
   "source": [
    "data = data[pd.notnull(data.MeasureGroup)]\n",
    "print(len(data))"
   ]
  },
  {
   "cell_type": "code",
   "execution_count": 14,
   "metadata": {
    "collapsed": true
   },
   "outputs": [],
   "source": [
    "data['OriginalUnit'] = data['ResultMeasure/MeasureUnitCode'].str.strip()"
   ]
  },
  {
   "cell_type": "code",
   "execution_count": 15,
   "metadata": {
    "collapsed": false
   },
   "outputs": [],
   "source": [
    "multipliers = pd.Series({\n",
    "    'mg/l': 1,\n",
    "    'mg/l as N': 1,\n",
    "    'mg/kg': 1,\n",
    "    'mg/kg as N': 1,\n",
    "    'ug/l': 1/1000,\n",
    "    'ug/kg': 1/1000,\n",
    "    'ng/l': 1/1000000,\n",
    "    'pg/l': 1/1000000000,\n",
    "    'ppm': 1,\n",
    "    'ppb': 1/1000,\n",
    "    'ueq/l': 62\n",
    "}, name='Multiplier')\n",
    "multipliers.index.name = 'OriginalUnit'\n",
    "\n",
    "multipliers = multipliers.reset_index()"
   ]
  },
  {
   "cell_type": "code",
   "execution_count": 16,
   "metadata": {
    "collapsed": true
   },
   "outputs": [],
   "source": [
    "merged = pd.merge(data, multipliers, on='OriginalUnit', how='left')"
   ]
  },
  {
   "cell_type": "code",
   "execution_count": 17,
   "metadata": {
    "collapsed": false
   },
   "outputs": [
    {
     "name": "stdout",
     "output_type": "stream",
     "text": [
      "CA-result-unmapped-units.rejects.csv\n",
      "4045\n"
     ]
    }
   ],
   "source": [
    "unmappedUnits = merged.loc[pd.isnull(merged.Multiplier)]\n",
    "unmappedUnits.to_csv(makepath(unmapped_units), index=False, quoting=csv.QUOTE_ALL)\n",
    "print(len(unmappedUnits))\n",
    "del unmappedUnits"
   ]
  },
  {
   "cell_type": "code",
   "execution_count": 18,
   "metadata": {
    "collapsed": false
   },
   "outputs": [
    {
     "data": {
      "text/plain": [
       "738179"
      ]
     },
     "execution_count": 18,
     "metadata": {},
     "output_type": "execute_result"
    }
   ],
   "source": [
    "merged = merged.loc[pd.notnull(merged.Multiplier)]\n",
    "merged['OriginalValue'] = merged.Value\n",
    "merged.Value = merged.Value * merged.Multiplier\n",
    "len(merged)"
   ]
  },
  {
   "cell_type": "code",
   "execution_count": 19,
   "metadata": {
    "collapsed": true
   },
   "outputs": [],
   "source": [
    "merged['ExceedsMclg'] = merged.Value > merged.MCLG"
   ]
  },
  {
   "cell_type": "code",
   "execution_count": 20,
   "metadata": {
    "collapsed": false
   },
   "outputs": [],
   "source": [
    "keepers = merged[[\n",
    "        'ActivityMediaName',\n",
    "        'ActivityMediaSubdivisionName',\n",
    "        'ActivityStartDate',\n",
    "        'ActivityStartTime/Time',\n",
    "        'ActivityStartTime/TimeZoneCode',\n",
    "        'MonitoringLocationIdentifier',\n",
    "        'CharacteristicName',\n",
    "        'MeasureGroup',\n",
    "        'Unit',\n",
    "        'Value',\n",
    "        'MCLG',\n",
    "        'ExceedsMclg',\n",
    "        'ResultCommentText',\n",
    "        'OrganizationIdentifier',\n",
    "        'OrganizationFormalName',\n",
    "        'ActivityTypeCode',\n",
    "        'ResultSampleFractionText',\n",
    "        'MeasureQualifierCode',\n",
    "        'ResultStatusIdentifier',\n",
    "        'ResultAnalyticalMethod/MethodIdentifier',\n",
    "        'ResultAnalyticalMethod/MethodName',\n",
    "        'ResultLaboratoryCommentText'\n",
    "\n",
    "]]\n",
    "\n",
    "keepers.columns = ['Medium', 'MediumSubdivision', 'StartDate', 'StartTime', 'TimeZone',\n",
    "                  'LocationIdentifier', 'Pollutant', 'PollutantGroup', 'Unit', 'Value', \n",
    "                  'Mclg', 'ExceedsMclg', 'Comment', 'OrganizationId', 'OrganizationName',\n",
    "                  'ActivityTypeCode', 'ResultSampleFraction', 'QualifierCode', \n",
    "                  'ResultStatus', 'AnalyticalMethodIdentifier', 'AnalyticalMethodName',\n",
    "                  'LaboratoryComment']"
   ]
  },
  {
   "cell_type": "code",
   "execution_count": 21,
   "metadata": {
    "collapsed": false
   },
   "outputs": [
    {
     "name": "stdout",
     "output_type": "stream",
     "text": [
      "CA-result-clean.csv\n"
     ]
    }
   ],
   "source": [
    "keepers.to_csv(makepath(result_clean), index=False, quoting = csv.QUOTE_ALL)"
   ]
  },
  {
   "cell_type": "code",
   "execution_count": null,
   "metadata": {
    "collapsed": true
   },
   "outputs": [],
   "source": []
  }
 ],
 "metadata": {
  "anaconda-cloud": {},
  "kernelspec": {
   "display_name": "Python [conda root]",
   "language": "python",
   "name": "conda-root-py"
  },
  "language_info": {
   "codemirror_mode": {
    "name": "ipython",
    "version": 3
   },
   "file_extension": ".py",
   "mimetype": "text/x-python",
   "name": "python",
   "nbconvert_exporter": "python",
   "pygments_lexer": "ipython3",
   "version": "3.5.2"
  }
 },
 "nbformat": 4,
 "nbformat_minor": 1
}
