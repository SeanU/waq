{
 "cells": [
  {
   "cell_type": "code",
   "execution_count": 1,
   "metadata": {
    "collapsed": true
   },
   "outputs": [],
   "source": [
    "import csv\n",
    "import numpy as np\n",
    "import pandas as pd\n",
    "import re\n",
    "\n",
    "from os import path"
   ]
  },
  {
   "cell_type": "code",
   "execution_count": 17,
   "metadata": {
    "collapsed": false
   },
   "outputs": [],
   "source": [
    "rootdir = '../data/water'\n",
    "\n",
    "input_file = 'CA-result.csv'\n",
    "measure_to_measure_group = 'measure-to-measuregroup.csv'\n",
    "\n",
    "input_base = path.splitext(input_file)[0]\n",
    "\n",
    "bad_values = 'badvalues.csv'\n",
    "unmatched_measures = 'unmatched-measures.csv'\n",
    "unmapped_units = 'unmapped-units.csv'\n",
    "over1k = 'over-one-thousand.csv'\n",
    "less_than_zero = 'less-than-zero.csv'\n",
    "result_clean = 'result-clean.csv'\n",
    "\n",
    "def makepath(suf):\n",
    "    file = input_base + '-' + suf\n",
    "    print(file)\n",
    "    return path.join(rootdir, file)"
   ]
  },
  {
   "cell_type": "code",
   "execution_count": 18,
   "metadata": {
    "collapsed": false
   },
   "outputs": [],
   "source": [
    "data_columns = [\n",
    "    'ActivityMediaName', \n",
    "    'ActivityMediaSubdivisionName',\n",
    "    'ActivityStartDate', \n",
    "    'ActivityStartTime/Time',\n",
    "    'ActivityStartTime/TimeZoneCode', \n",
    "    'MonitoringLocationIdentifier', \n",
    "    'CharacteristicName',\n",
    "    'ResultMeasureValue', \n",
    "    'ResultMeasure/MeasureUnitCode',\n",
    "    'ResultCommentText'\n",
    "]\n",
    "\n",
    "activity_media = ['Water']"
   ]
  },
  {
   "cell_type": "code",
   "execution_count": 19,
   "metadata": {
    "collapsed": false
   },
   "outputs": [
    {
     "name": "stderr",
     "output_type": "stream",
     "text": [
      "/Users/Sean/anaconda/lib/python3.5/site-packages/IPython/core/interactiveshell.py:2717: DtypeWarning: Columns (33,5,44) have mixed types. Specify dtype option on import or set low_memory=False.\n",
      "  interactivity=interactivity, compiler=compiler, result=result)\n"
     ]
    },
    {
     "data": {
      "text/plain": [
       "13478000"
      ]
     },
     "execution_count": 19,
     "metadata": {},
     "output_type": "execute_result"
    }
   ],
   "source": [
    "data = pd.read_csv(path.join(rootdir, input_file),\n",
    "                  error_bad_lines=False,\n",
    "                  usecols=data_columns)\n",
    "\n",
    "len(data)"
   ]
  },
  {
   "cell_type": "code",
   "execution_count": 20,
   "metadata": {
    "collapsed": false
   },
   "outputs": [],
   "source": [
    "data[\"Value\"] = pd.to_numeric(data.ResultMeasureValue, errors='coerce')"
   ]
  },
  {
   "cell_type": "code",
   "execution_count": 21,
   "metadata": {
    "collapsed": false
   },
   "outputs": [
    {
     "data": {
      "text/plain": [
       "12392050"
      ]
     },
     "execution_count": 21,
     "metadata": {},
     "output_type": "execute_result"
    }
   ],
   "source": [
    "data = data[data.ActivityMediaName.isin(activity_media)]\n",
    "len(data)"
   ]
  },
  {
   "cell_type": "code",
   "execution_count": 22,
   "metadata": {
    "collapsed": false
   },
   "outputs": [
    {
     "name": "stdout",
     "output_type": "stream",
     "text": [
      "CA-result-badvalues.csv\n"
     ]
    },
    {
     "data": {
      "text/plain": [
       "1581450"
      ]
     },
     "execution_count": 22,
     "metadata": {},
     "output_type": "execute_result"
    }
   ],
   "source": [
    "badValues = data.loc[pd.isnull(data.Value)]\n",
    "badValues.to_csv(makepath(bad_values), index=False, quoting=csv.QUOTE_ALL)\n",
    "length = len(badValues)\n",
    "del badValues\n",
    "length"
   ]
  },
  {
   "cell_type": "code",
   "execution_count": 23,
   "metadata": {
    "collapsed": false
   },
   "outputs": [
    {
     "data": {
      "text/plain": [
       "10810600"
      ]
     },
     "execution_count": 23,
     "metadata": {},
     "output_type": "execute_result"
    }
   ],
   "source": [
    "data = data[pd.notnull(data.Value)]\n",
    "len(data)"
   ]
  },
  {
   "cell_type": "code",
   "execution_count": 24,
   "metadata": {
    "collapsed": false
   },
   "outputs": [
    {
     "data": {
      "text/html": [
       "<div>\n",
       "<table border=\"1\" class=\"dataframe\">\n",
       "  <thead>\n",
       "    <tr style=\"text-align: right;\">\n",
       "      <th></th>\n",
       "      <th>Pattern</th>\n",
       "      <th>MeasureGroup</th>\n",
       "      <th>MCLG</th>\n",
       "      <th>Unit</th>\n",
       "    </tr>\n",
       "  </thead>\n",
       "  <tbody>\n",
       "    <tr>\n",
       "      <th>0</th>\n",
       "      <td>antimony</td>\n",
       "      <td>Antimony</td>\n",
       "      <td>0.006</td>\n",
       "      <td>mg/L</td>\n",
       "    </tr>\n",
       "  </tbody>\n",
       "</table>\n",
       "</div>"
      ],
      "text/plain": [
       "    Pattern MeasureGroup   MCLG  Unit\n",
       "0  antimony     Antimony  0.006  mg/L"
      ]
     },
     "execution_count": 24,
     "metadata": {},
     "output_type": "execute_result"
    }
   ],
   "source": [
    "measures = pd.read_csv(path.join(rootdir, measure_to_measure_group))\n",
    "measures.head(1)"
   ]
  },
  {
   "cell_type": "code",
   "execution_count": 25,
   "metadata": {
    "collapsed": false
   },
   "outputs": [
    {
     "name": "stdout",
     "output_type": "stream",
     "text": [
      "antimony\n",
      "arsenic\n",
      "barium\n",
      "beryllium\n",
      "cadmium\n",
      "chromium\n",
      "copper\n",
      "fluoride\n",
      "monobromoacetic acid\n",
      "monochloroacetic acid\n",
      "dibromoacetic acid\n",
      "dichloroacetic acid\n",
      "trichloroacetic acid\n",
      "lead(?:-\\d+)?\n",
      "mercury\n",
      "nitrate(?: as N)?\n",
      "inorganic nitrogen.*\n",
      "nitrite(?: as N)?\n",
      "Aroclor.*\n",
      "\\d'?(?:,\\d'?)*-\\w*?chlorobiphenyl\n",
      "total \\w*?chloro biphenyls\n",
      "polychlorinated biphenyls\n",
      "PCB-\\d+(?:\\/\\d+)*\n",
      "\\w+chlorobiphenyl\n",
      "selenium\n",
      "simazine\n",
      "chlorodibromomethane\n",
      "trichloromethane|chloroform\n",
      "dichlorobromomethane\n",
      "tribromomethane|bromoform\n",
      ".*xylene.*\n",
      "CPU times: user 6min 31s, sys: 13 s, total: 6min 44s\n",
      "Wall time: 32min 29s\n"
     ]
    }
   ],
   "source": [
    "%%time\n",
    "for _,row in measures.iterrows():\n",
    "    print(row.Pattern)\n",
    "    pattern = re.compile(row.Pattern, re.IGNORECASE)\n",
    "    matches = data.CharacteristicName.str.contains(row.Pattern, case=False)\n",
    "    data.loc[matches, 'MeasureGroup'] = row.MeasureGroup\n",
    "    data.loc[matches, 'MCLG'] = row.MCLG\n",
    "    data.loc[matches, 'Unit'] = row.Unit"
   ]
  },
  {
   "cell_type": "code",
   "execution_count": 26,
   "metadata": {
    "collapsed": false
   },
   "outputs": [
    {
     "name": "stdout",
     "output_type": "stream",
     "text": [
      "CA-result-unmatched-measures.csv\n",
      "1050\n"
     ]
    }
   ],
   "source": [
    "nonMatchingMeasures = data.loc[pd.isnull(data.MeasureGroup), 'CharacteristicName'].unique()\n",
    "pd.DataFrame(nonMatchingMeasures).to_csv(makepath(unmatched_measures), \n",
    "                                         index=False, quoting=csv.QUOTE_ALL)\n",
    "print(len(nonMatchingMeasures))\n",
    "del nonMatchingMeasures"
   ]
  },
  {
   "cell_type": "code",
   "execution_count": 27,
   "metadata": {
    "collapsed": false
   },
   "outputs": [
    {
     "name": "stdout",
     "output_type": "stream",
     "text": [
      "742224\n"
     ]
    }
   ],
   "source": [
    "data = data[pd.notnull(data.MeasureGroup)]\n",
    "print(len(data))"
   ]
  },
  {
   "cell_type": "code",
   "execution_count": 28,
   "metadata": {
    "collapsed": false
   },
   "outputs": [
    {
     "data": {
      "text/plain": [
       "array(['ug/l', 'mg/l', 'ng/l', '% recovery', 'pg/l', 'ppb       ',\n",
       "       'mg/l      ', 'ug/l      ', 'ppm       ', 'ueq/L     ', 'ueq/L',\n",
       "       'ng/l      ', 'umol', 'mg/l as N', 'ug/kg', 'mg/kg', 'mg/kg as N',\n",
       "       'tons/day', 'pCi/L'], dtype=object)"
      ]
     },
     "execution_count": 28,
     "metadata": {},
     "output_type": "execute_result"
    }
   ],
   "source": [
    "data.head(1)\n",
    "data['ResultMeasure/MeasureUnitCode'].unique()"
   ]
  },
  {
   "cell_type": "code",
   "execution_count": 29,
   "metadata": {
    "collapsed": true
   },
   "outputs": [],
   "source": [
    "data['OriginalUnit'] = data['ResultMeasure/MeasureUnitCode'].str.strip()"
   ]
  },
  {
   "cell_type": "code",
   "execution_count": 30,
   "metadata": {
    "collapsed": false
   },
   "outputs": [],
   "source": [
    "multipliers = pd.Series({\n",
    "    'mg/l': 1,\n",
    "    'mg/l as N': 1,\n",
    "    'mg/kg': 1,\n",
    "    'mg/kg as N': 1,\n",
    "    'ug/l': 1/1000,\n",
    "    'ug/kg': 1/1000,\n",
    "    'ng/l': 1/1000000,\n",
    "    'pg/l': 1/1000000000,\n",
    "    'ppm': 1,\n",
    "    'ppb': 1/1000,\n",
    "    'ueq/l': 62\n",
    "}, name='Multiplier')\n",
    "multipliers.index.name = 'OriginalUnit'\n",
    "\n",
    "multipliers = multipliers.reset_index()"
   ]
  },
  {
   "cell_type": "code",
   "execution_count": 31,
   "metadata": {
    "collapsed": true
   },
   "outputs": [],
   "source": [
    "merged = pd.merge(data, multipliers, on='OriginalUnit', how='left')"
   ]
  },
  {
   "cell_type": "code",
   "execution_count": 32,
   "metadata": {
    "collapsed": false
   },
   "outputs": [
    {
     "name": "stdout",
     "output_type": "stream",
     "text": [
      "CA-result-unmapped-units.csv\n",
      "4045\n"
     ]
    }
   ],
   "source": [
    "unmappedUnits = merged.loc[pd.isnull(merged.Multiplier)]\n",
    "unmappedUnits.to_csv(makepath(unmapped_units), index=False, quoting=csv.QUOTE_ALL)\n",
    "print(len(unmappedUnits))\n",
    "del unmappedUnits"
   ]
  },
  {
   "cell_type": "code",
   "execution_count": 33,
   "metadata": {
    "collapsed": false
   },
   "outputs": [
    {
     "data": {
      "text/plain": [
       "738179"
      ]
     },
     "execution_count": 33,
     "metadata": {},
     "output_type": "execute_result"
    }
   ],
   "source": [
    "merged = merged.loc[pd.notnull(merged.Multiplier)]\n",
    "merged['OriginalValue'] = merged.Value\n",
    "merged.Value = merged.Value * merged.Multiplier\n",
    "len(merged)"
   ]
  },
  {
   "cell_type": "code",
   "execution_count": 34,
   "metadata": {
    "collapsed": false
   },
   "outputs": [
    {
     "name": "stdout",
     "output_type": "stream",
     "text": [
      "CA-result-over-one-thousand.csv\n",
      "139\n"
     ]
    },
    {
     "data": {
      "text/plain": [
       "738040"
      ]
     },
     "execution_count": 34,
     "metadata": {},
     "output_type": "execute_result"
    }
   ],
   "source": [
    "# Removing outliers - anything above 1g/L we'll assume is an outlier, \n",
    "# though it may just be bad units and we can scale down by a factor of 1,000\n",
    "\n",
    "overOneThousand = merged.loc[merged.Value > 1000]\n",
    "overOneThousand.to_csv(makepath(over1k), index=False, quoting=csv.QUOTE_ALL)\n",
    "print(len(overOneThousand))\n",
    "del overOneThousand\n",
    "\n",
    "merged = merged.loc[merged.Value <= 1000]\n",
    "len(merged)"
   ]
  },
  {
   "cell_type": "code",
   "execution_count": 35,
   "metadata": {
    "collapsed": false
   },
   "outputs": [
    {
     "name": "stdout",
     "output_type": "stream",
     "text": [
      "CA-result-less-than-zero.csv\n",
      "448\n"
     ]
    },
    {
     "data": {
      "text/plain": [
       "737592"
      ]
     },
     "execution_count": 35,
     "metadata": {},
     "output_type": "execute_result"
    }
   ],
   "source": [
    "# Same for less than zero\n",
    "\n",
    "lessThanZero = merged.loc[merged.Value < 0]\n",
    "lessThanZero.to_csv(makepath(less_than_zero), index=False, quoting = csv.QUOTE_ALL)\n",
    "print(len(lessThanZero))\n",
    "del lessThanZero\n",
    "\n",
    "merged = merged.loc[merged.Value >= 0]\n",
    "len(merged)"
   ]
  },
  {
   "cell_type": "code",
   "execution_count": 36,
   "metadata": {
    "collapsed": true
   },
   "outputs": [],
   "source": [
    "merged['ExceedsMclg'] = merged.Value > merged.MCLG"
   ]
  },
  {
   "cell_type": "code",
   "execution_count": 37,
   "metadata": {
    "collapsed": false
   },
   "outputs": [
    {
     "data": {
      "text/html": [
       "<div>\n",
       "<table border=\"1\" class=\"dataframe\">\n",
       "  <thead>\n",
       "    <tr style=\"text-align: right;\">\n",
       "      <th></th>\n",
       "      <th>ActivityMediaName</th>\n",
       "      <th>ActivityMediaSubdivisionName</th>\n",
       "      <th>ActivityStartDate</th>\n",
       "      <th>ActivityStartTime/Time</th>\n",
       "      <th>ActivityStartTime/TimeZoneCode</th>\n",
       "      <th>MonitoringLocationIdentifier</th>\n",
       "      <th>CharacteristicName</th>\n",
       "      <th>ResultMeasureValue</th>\n",
       "      <th>ResultMeasure/MeasureUnitCode</th>\n",
       "      <th>ResultCommentText</th>\n",
       "      <th>Value</th>\n",
       "      <th>MeasureGroup</th>\n",
       "      <th>MCLG</th>\n",
       "      <th>Unit</th>\n",
       "      <th>OriginalUnit</th>\n",
       "      <th>Multiplier</th>\n",
       "      <th>OriginalValue</th>\n",
       "      <th>ExceedsMclg</th>\n",
       "    </tr>\n",
       "  </thead>\n",
       "  <tbody>\n",
       "    <tr>\n",
       "      <th>0</th>\n",
       "      <td>Water</td>\n",
       "      <td>NaN</td>\n",
       "      <td>2013-08-06</td>\n",
       "      <td>10:10:00</td>\n",
       "      <td>PST</td>\n",
       "      <td>CALWR_WQX-A1723000</td>\n",
       "      <td>Arsenic</td>\n",
       "      <td>6.08</td>\n",
       "      <td>ug/l</td>\n",
       "      <td>NaN</td>\n",
       "      <td>0.006080</td>\n",
       "      <td>Arsenic</td>\n",
       "      <td>0.000</td>\n",
       "      <td>mg/L</td>\n",
       "      <td>ug/l</td>\n",
       "      <td>0.001</td>\n",
       "      <td>6.080</td>\n",
       "      <td>True</td>\n",
       "    </tr>\n",
       "    <tr>\n",
       "      <th>1</th>\n",
       "      <td>Water</td>\n",
       "      <td>NaN</td>\n",
       "      <td>2013-02-26</td>\n",
       "      <td>08:05:00</td>\n",
       "      <td>PST</td>\n",
       "      <td>CALWR_WQX-F0129950</td>\n",
       "      <td>Arsenic</td>\n",
       "      <td>.155</td>\n",
       "      <td>ug/l</td>\n",
       "      <td>NaN</td>\n",
       "      <td>0.000155</td>\n",
       "      <td>Arsenic</td>\n",
       "      <td>0.000</td>\n",
       "      <td>mg/L</td>\n",
       "      <td>ug/l</td>\n",
       "      <td>0.001</td>\n",
       "      <td>0.155</td>\n",
       "      <td>True</td>\n",
       "    </tr>\n",
       "    <tr>\n",
       "      <th>2</th>\n",
       "      <td>Water</td>\n",
       "      <td>NaN</td>\n",
       "      <td>2013-08-06</td>\n",
       "      <td>07:30:00</td>\n",
       "      <td>PST</td>\n",
       "      <td>CALWR_WQX-A0263000</td>\n",
       "      <td>Selenium</td>\n",
       "      <td>0</td>\n",
       "      <td>ug/l</td>\n",
       "      <td>NaN</td>\n",
       "      <td>0.000000</td>\n",
       "      <td>Selenium</td>\n",
       "      <td>0.050</td>\n",
       "      <td>mg/L</td>\n",
       "      <td>ug/l</td>\n",
       "      <td>0.001</td>\n",
       "      <td>0.000</td>\n",
       "      <td>False</td>\n",
       "    </tr>\n",
       "    <tr>\n",
       "      <th>3</th>\n",
       "      <td>Water</td>\n",
       "      <td>NaN</td>\n",
       "      <td>2013-08-06</td>\n",
       "      <td>07:30:00</td>\n",
       "      <td>PST</td>\n",
       "      <td>CALWR_WQX-A0263000</td>\n",
       "      <td>Arsenic</td>\n",
       "      <td>1.48</td>\n",
       "      <td>ug/l</td>\n",
       "      <td>NaN</td>\n",
       "      <td>0.001480</td>\n",
       "      <td>Arsenic</td>\n",
       "      <td>0.000</td>\n",
       "      <td>mg/L</td>\n",
       "      <td>ug/l</td>\n",
       "      <td>0.001</td>\n",
       "      <td>1.480</td>\n",
       "      <td>True</td>\n",
       "    </tr>\n",
       "    <tr>\n",
       "      <th>4</th>\n",
       "      <td>Water</td>\n",
       "      <td>NaN</td>\n",
       "      <td>2013-08-06</td>\n",
       "      <td>07:45:00</td>\n",
       "      <td>PST</td>\n",
       "      <td>CALWR_WQX-A1168000</td>\n",
       "      <td>Selenium</td>\n",
       "      <td>.36</td>\n",
       "      <td>ug/l</td>\n",
       "      <td>NaN</td>\n",
       "      <td>0.000360</td>\n",
       "      <td>Selenium</td>\n",
       "      <td>0.050</td>\n",
       "      <td>mg/L</td>\n",
       "      <td>ug/l</td>\n",
       "      <td>0.001</td>\n",
       "      <td>0.360</td>\n",
       "      <td>False</td>\n",
       "    </tr>\n",
       "    <tr>\n",
       "      <th>5</th>\n",
       "      <td>Water</td>\n",
       "      <td>NaN</td>\n",
       "      <td>2013-08-06</td>\n",
       "      <td>07:45:00</td>\n",
       "      <td>PST</td>\n",
       "      <td>CALWR_WQX-A1168000</td>\n",
       "      <td>Lead</td>\n",
       "      <td>0</td>\n",
       "      <td>ug/l</td>\n",
       "      <td>NaN</td>\n",
       "      <td>0.000000</td>\n",
       "      <td>Lead</td>\n",
       "      <td>0.000</td>\n",
       "      <td>mg/L</td>\n",
       "      <td>ug/l</td>\n",
       "      <td>0.001</td>\n",
       "      <td>0.000</td>\n",
       "      <td>False</td>\n",
       "    </tr>\n",
       "    <tr>\n",
       "      <th>6</th>\n",
       "      <td>Water</td>\n",
       "      <td>NaN</td>\n",
       "      <td>2013-08-06</td>\n",
       "      <td>07:45:00</td>\n",
       "      <td>PST</td>\n",
       "      <td>CALWR_WQX-A1168000</td>\n",
       "      <td>Cadmium</td>\n",
       "      <td>0</td>\n",
       "      <td>ug/l</td>\n",
       "      <td>NaN</td>\n",
       "      <td>0.000000</td>\n",
       "      <td>Cadmium</td>\n",
       "      <td>0.005</td>\n",
       "      <td>mg/L</td>\n",
       "      <td>ug/l</td>\n",
       "      <td>0.001</td>\n",
       "      <td>0.000</td>\n",
       "      <td>False</td>\n",
       "    </tr>\n",
       "    <tr>\n",
       "      <th>7</th>\n",
       "      <td>Water</td>\n",
       "      <td>NaN</td>\n",
       "      <td>2013-05-07</td>\n",
       "      <td>10:15:00</td>\n",
       "      <td>PST</td>\n",
       "      <td>CALWR_WQX-A1723000</td>\n",
       "      <td>Selenium</td>\n",
       "      <td>0</td>\n",
       "      <td>ug/l</td>\n",
       "      <td>NaN</td>\n",
       "      <td>0.000000</td>\n",
       "      <td>Selenium</td>\n",
       "      <td>0.050</td>\n",
       "      <td>mg/L</td>\n",
       "      <td>ug/l</td>\n",
       "      <td>0.001</td>\n",
       "      <td>0.000</td>\n",
       "      <td>False</td>\n",
       "    </tr>\n",
       "    <tr>\n",
       "      <th>8</th>\n",
       "      <td>Water</td>\n",
       "      <td>NaN</td>\n",
       "      <td>2013-05-07</td>\n",
       "      <td>10:15:00</td>\n",
       "      <td>PST</td>\n",
       "      <td>CALWR_WQX-A1723000</td>\n",
       "      <td>Copper</td>\n",
       "      <td>.24</td>\n",
       "      <td>ug/l</td>\n",
       "      <td>NaN</td>\n",
       "      <td>0.000240</td>\n",
       "      <td>Copper</td>\n",
       "      <td>1.300</td>\n",
       "      <td>mg/L</td>\n",
       "      <td>ug/l</td>\n",
       "      <td>0.001</td>\n",
       "      <td>0.240</td>\n",
       "      <td>False</td>\n",
       "    </tr>\n",
       "    <tr>\n",
       "      <th>9</th>\n",
       "      <td>Water</td>\n",
       "      <td>NaN</td>\n",
       "      <td>2013-05-07</td>\n",
       "      <td>10:15:00</td>\n",
       "      <td>PST</td>\n",
       "      <td>CALWR_WQX-A1723000</td>\n",
       "      <td>Chromium</td>\n",
       "      <td>1.5</td>\n",
       "      <td>ug/l</td>\n",
       "      <td>NaN</td>\n",
       "      <td>0.001500</td>\n",
       "      <td>Chromium</td>\n",
       "      <td>0.100</td>\n",
       "      <td>mg/L</td>\n",
       "      <td>ug/l</td>\n",
       "      <td>0.001</td>\n",
       "      <td>1.500</td>\n",
       "      <td>False</td>\n",
       "    </tr>\n",
       "  </tbody>\n",
       "</table>\n",
       "</div>"
      ],
      "text/plain": [
       "  ActivityMediaName ActivityMediaSubdivisionName ActivityStartDate  \\\n",
       "0             Water                          NaN        2013-08-06   \n",
       "1             Water                          NaN        2013-02-26   \n",
       "2             Water                          NaN        2013-08-06   \n",
       "3             Water                          NaN        2013-08-06   \n",
       "4             Water                          NaN        2013-08-06   \n",
       "5             Water                          NaN        2013-08-06   \n",
       "6             Water                          NaN        2013-08-06   \n",
       "7             Water                          NaN        2013-05-07   \n",
       "8             Water                          NaN        2013-05-07   \n",
       "9             Water                          NaN        2013-05-07   \n",
       "\n",
       "  ActivityStartTime/Time ActivityStartTime/TimeZoneCode  \\\n",
       "0               10:10:00                            PST   \n",
       "1               08:05:00                            PST   \n",
       "2               07:30:00                            PST   \n",
       "3               07:30:00                            PST   \n",
       "4               07:45:00                            PST   \n",
       "5               07:45:00                            PST   \n",
       "6               07:45:00                            PST   \n",
       "7               10:15:00                            PST   \n",
       "8               10:15:00                            PST   \n",
       "9               10:15:00                            PST   \n",
       "\n",
       "  MonitoringLocationIdentifier CharacteristicName ResultMeasureValue  \\\n",
       "0           CALWR_WQX-A1723000            Arsenic               6.08   \n",
       "1           CALWR_WQX-F0129950            Arsenic               .155   \n",
       "2           CALWR_WQX-A0263000           Selenium                  0   \n",
       "3           CALWR_WQX-A0263000            Arsenic               1.48   \n",
       "4           CALWR_WQX-A1168000           Selenium                .36   \n",
       "5           CALWR_WQX-A1168000               Lead                  0   \n",
       "6           CALWR_WQX-A1168000            Cadmium                  0   \n",
       "7           CALWR_WQX-A1723000           Selenium                  0   \n",
       "8           CALWR_WQX-A1723000             Copper                .24   \n",
       "9           CALWR_WQX-A1723000           Chromium                1.5   \n",
       "\n",
       "  ResultMeasure/MeasureUnitCode ResultCommentText     Value MeasureGroup  \\\n",
       "0                          ug/l               NaN  0.006080      Arsenic   \n",
       "1                          ug/l               NaN  0.000155      Arsenic   \n",
       "2                          ug/l               NaN  0.000000     Selenium   \n",
       "3                          ug/l               NaN  0.001480      Arsenic   \n",
       "4                          ug/l               NaN  0.000360     Selenium   \n",
       "5                          ug/l               NaN  0.000000         Lead   \n",
       "6                          ug/l               NaN  0.000000      Cadmium   \n",
       "7                          ug/l               NaN  0.000000     Selenium   \n",
       "8                          ug/l               NaN  0.000240       Copper   \n",
       "9                          ug/l               NaN  0.001500     Chromium   \n",
       "\n",
       "    MCLG  Unit OriginalUnit  Multiplier  OriginalValue ExceedsMclg  \n",
       "0  0.000  mg/L         ug/l       0.001          6.080        True  \n",
       "1  0.000  mg/L         ug/l       0.001          0.155        True  \n",
       "2  0.050  mg/L         ug/l       0.001          0.000       False  \n",
       "3  0.000  mg/L         ug/l       0.001          1.480        True  \n",
       "4  0.050  mg/L         ug/l       0.001          0.360       False  \n",
       "5  0.000  mg/L         ug/l       0.001          0.000       False  \n",
       "6  0.005  mg/L         ug/l       0.001          0.000       False  \n",
       "7  0.050  mg/L         ug/l       0.001          0.000       False  \n",
       "8  1.300  mg/L         ug/l       0.001          0.240       False  \n",
       "9  0.100  mg/L         ug/l       0.001          1.500       False  "
      ]
     },
     "execution_count": 37,
     "metadata": {},
     "output_type": "execute_result"
    }
   ],
   "source": [
    "merged.head(10)"
   ]
  },
  {
   "cell_type": "code",
   "execution_count": 38,
   "metadata": {
    "collapsed": false
   },
   "outputs": [],
   "source": [
    "keepers = merged[['ActivityMediaName', 'ActivityMediaSubdivisionName', 'ActivityStartDate', \n",
    "                      'ActivityStartTime/Time', 'ActivityStartTime/TimeZoneCode', \n",
    "                      'MonitoringLocationIdentifier', 'CharacteristicName', 'MeasureGroup',\n",
    "                      'Unit', 'Value',  'MCLG', 'ExceedsMclg', 'ResultCommentText']]\n",
    "\n",
    "keepers.columns = ['Medium', 'MediumSubdivision', 'StartDate', 'StartTime', 'TimeZone',\n",
    "                  'LocationIdentifier', 'Pollutant', 'PollutantGroup', 'Unit', 'Value', \n",
    "                  'Mclg', 'ExceedsMclg', 'Comment']"
   ]
  },
  {
   "cell_type": "code",
   "execution_count": 39,
   "metadata": {
    "collapsed": false
   },
   "outputs": [
    {
     "name": "stdout",
     "output_type": "stream",
     "text": [
      "CA-result-result-clean.csv\n"
     ]
    }
   ],
   "source": [
    "keepers.to_csv(makepath(result_clean), index=False, quoting = csv.QUOTE_ALL)"
   ]
  }
 ],
 "metadata": {
  "kernelspec": {
   "display_name": "Python [conda root]",
   "language": "python",
   "name": "conda-root-py"
  },
  "language_info": {
   "codemirror_mode": {
    "name": "ipython",
    "version": 3
   },
   "file_extension": ".py",
   "mimetype": "text/x-python",
   "name": "python",
   "nbconvert_exporter": "python",
   "pygments_lexer": "ipython3",
   "version": "3.5.2"
  }
 },
 "nbformat": 4,
 "nbformat_minor": 1
}
