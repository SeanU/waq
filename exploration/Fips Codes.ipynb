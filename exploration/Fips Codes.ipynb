{
 "cells": [
  {
   "cell_type": "code",
   "execution_count": 24,
   "metadata": {
    "collapsed": true
   },
   "outputs": [],
   "source": [
    "import pandas as pd\n",
    "from os import path"
   ]
  },
  {
   "cell_type": "code",
   "execution_count": 4,
   "metadata": {
    "collapsed": true
   },
   "outputs": [],
   "source": [
    "fips_code_path = '../data/fips_codes.csv'"
   ]
  },
  {
   "cell_type": "code",
   "execution_count": 20,
   "metadata": {
    "collapsed": false
   },
   "outputs": [
    {
     "data": {
      "text/plain": [
       "Index(['State', 'StateId', 'CountyId', 'County', 'ClassCode'], dtype='object')"
      ]
     },
     "execution_count": 20,
     "metadata": {},
     "output_type": "execute_result"
    }
   ],
   "source": [
    "fips = pd.read_csv(fips_code_path)\n",
    "fips.columns"
   ]
  },
  {
   "cell_type": "code",
   "execution_count": 15,
   "metadata": {
    "collapsed": false
   },
   "outputs": [],
   "source": [
    "state_index = fips[['State', 'StateId']].drop_duplicates()"
   ]
  },
  {
   "cell_type": "code",
   "execution_count": 19,
   "metadata": {
    "collapsed": false
   },
   "outputs": [],
   "source": [
    "state_to_id = state_index.set_index('State').to_dict()['StateId']\n",
    "id_to_state = state_index.set_index('StateId').to_dict()['State']"
   ]
  },
  {
   "cell_type": "code",
   "execution_count": 21,
   "metadata": {
    "collapsed": true
   },
   "outputs": [],
   "source": [
    "def get_county_data(state):\n",
    "    county = fips.ix[fips.State == state]\n",
    "    return county[['County', 'CountyId']].drop_duplicates()\n",
    "\n",
    "def get_county_to_id(state):\n",
    "    county_index = get_county_data(state)\n",
    "    return county_index.set_index('County').to_dict()['CountyId']\n",
    "\n",
    "def get_id_to_county(state):\n",
    "    county_index = get_county_data(state)\n",
    "    return county_index.set_index('CountyId').to_dict()['County']"
   ]
  },
  {
   "cell_type": "code",
   "execution_count": 23,
   "metadata": {
    "collapsed": false
   },
   "outputs": [
    {
     "data": {
      "text/plain": [
       "{'Aleutians East Borough': 13,\n",
       " 'Aleutians West Census Area': 16,\n",
       " 'Anchorage Municipality': 20,\n",
       " 'Bethel Census Area': 50,\n",
       " 'Bristol Bay Borough': 60,\n",
       " 'Denali Borough': 68,\n",
       " 'Dillingham Census Area': 70,\n",
       " 'Fairbanks North Star Borough': 90,\n",
       " 'Haines Borough': 100,\n",
       " 'Hoonah-Angoon Census Area': 105,\n",
       " 'Juneau City and Borough': 110,\n",
       " 'Kenai Peninsula Borough': 122,\n",
       " 'Ketchikan Gateway Borough': 130,\n",
       " 'Kodiak Island Borough': 150,\n",
       " 'Lake and Peninsula Borough': 164,\n",
       " 'Matanuska-Susitna Borough': 170,\n",
       " 'Nome Census Area': 180,\n",
       " 'North Slope Borough': 185,\n",
       " 'Northwest Arctic Borough': 188,\n",
       " 'Petersburg Census Area': 195,\n",
       " 'Prince of Wales-Hyder Census Area': 198,\n",
       " 'Sitka City and Borough': 220,\n",
       " 'Skagway Municipality': 230,\n",
       " 'Southeast Fairbanks Census Area': 240,\n",
       " 'Valdez-Cordova Census Area': 261,\n",
       " 'Wade Hampton Census Area': 270,\n",
       " 'Wrangell City and Borough': 275,\n",
       " 'Yakutat City and Borough': 282,\n",
       " 'Yukon-Koyukuk Census Area': 290}"
      ]
     },
     "execution_count": 23,
     "metadata": {},
     "output_type": "execute_result"
    }
   ],
   "source": [
    "get_county_to_id('AK')"
   ]
  },
  {
   "cell_type": "code",
   "execution_count": 27,
   "metadata": {
    "collapsed": false
   },
   "outputs": [
    {
     "data": {
      "text/plain": [
       "'fo'"
      ]
     },
     "execution_count": 27,
     "metadata": {},
     "output_type": "execute_result"
    }
   ],
   "source": [
    "dir, file = path.split('/test/foo.txt')\n",
    "file[:2]"
   ]
  }
 ],
 "metadata": {
  "anaconda-cloud": {},
  "kernelspec": {
   "display_name": "Python [conda root]",
   "language": "python",
   "name": "conda-root-py"
  },
  "language_info": {
   "codemirror_mode": {
    "name": "ipython",
    "version": 3
   },
   "file_extension": ".py",
   "mimetype": "text/x-python",
   "name": "python",
   "nbconvert_exporter": "python",
   "pygments_lexer": "ipython3",
   "version": "3.5.2"
  }
 },
 "nbformat": 4,
 "nbformat_minor": 1
}
