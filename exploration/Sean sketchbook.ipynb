{
 "cells": [
  {
   "cell_type": "code",
   "execution_count": 1,
   "metadata": {
    "collapsed": true
   },
   "outputs": [],
   "source": [
    "import pandas as pd\n",
    "from os import path, walk\n",
    "import re"
   ]
  },
  {
   "cell_type": "code",
   "execution_count": 2,
   "metadata": {
    "collapsed": true
   },
   "outputs": [],
   "source": [
    "source_path = '../data/water/processed/'"
   ]
  },
  {
   "cell_type": "code",
   "execution_count": 20,
   "metadata": {
    "collapsed": false
   },
   "outputs": [],
   "source": [
    "def enumerate_files(folder, pattern):\n",
    "    for dirpath, dirnames, filenames in os.walk(folder):\n",
    "        for f in filenames:\n",
    "            if re.match(pattern, f):\n",
    "                yield path.join(dirpath, f)\n",
    "\n",
    "def read_and_rank(path):\n",
    "    df = pd.read_csv(path, low_memory=False)\n",
    "    df['Date'] = df['StartDate'] + ' ' + df['StartTime']\n",
    "    df['Rank'] = df.sort_values('Date')\\\n",
    "                    .groupby(['LocationIdentifier', 'Pollutant'])\\\n",
    "                    .cumcount() + 1\n",
    "    return df.drop('Date', 1)\n",
    "\n",
    "def merge_station_files(folder):\n",
    "    dfs = [pd.read_csv(f, low_memory=False) \n",
    "           for f in enumerate_files(folder, r'\\w\\w_station-.*\\.csv')]\n",
    "    return pd.concat(dfs)\n",
    "\n",
    "def merge_rank_result_files(folder):\n",
    "    dfs = [read_and_rank(f) \n",
    "           for f in enumerate_files(folder, r'\\w\\w_result-.*\\.csv')]\n",
    "    return pd.concat(dfs)"
   ]
  },
  {
   "cell_type": "code",
   "execution_count": 18,
   "metadata": {
    "collapsed": false
   },
   "outputs": [
    {
     "name": "stdout",
     "output_type": "stream",
     "text": [
      "Concatenating stations\n"
     ]
    }
   ],
   "source": [
    "print(\"Concatenating stations\")\n",
    "merge_station_files(source_path)\\\n",
    "    .to_csv(path.join(source_path, 'all-station.csv'))"
   ]
  },
  {
   "cell_type": "code",
   "execution_count": 19,
   "metadata": {
    "collapsed": false
   },
   "outputs": [
    {
     "name": "stdout",
     "output_type": "stream",
     "text": [
      "Concatenating results\n"
     ]
    }
   ],
   "source": [
    "print(\"Concatenating results\")\n",
    "merge_rank_result_files(source_path)\\\n",
    "    .to_csv(path.join(source_path, 'all-result.csv'))\n"
   ]
  },
  {
   "cell_type": "code",
   "execution_count": null,
   "metadata": {
    "collapsed": true
   },
   "outputs": [],
   "source": [
    "fips_code_path = '../data/fips_codes.csv'"
   ]
  },
  {
   "cell_type": "code",
   "execution_count": null,
   "metadata": {
    "collapsed": false
   },
   "outputs": [],
   "source": [
    "fips = pd.read_csv(fips_code_path)\n",
    "fips.columns"
   ]
  },
  {
   "cell_type": "code",
   "execution_count": null,
   "metadata": {
    "collapsed": false
   },
   "outputs": [],
   "source": [
    "state_index = fips[['State', 'StateId']].drop_duplicates()"
   ]
  },
  {
   "cell_type": "code",
   "execution_count": null,
   "metadata": {
    "collapsed": false
   },
   "outputs": [],
   "source": [
    "state_to_id = state_index.set_index('State').to_dict()['StateId']\n",
    "id_to_state = state_index.set_index('StateId').to_dict()['State']"
   ]
  },
  {
   "cell_type": "code",
   "execution_count": null,
   "metadata": {
    "collapsed": true
   },
   "outputs": [],
   "source": [
    "def get_county_data(state):\n",
    "    county = fips.ix[fips.State == state]\n",
    "    return county[['County', 'CountyId']].drop_duplicates()\n",
    "\n",
    "def get_county_to_id(state):\n",
    "    county_index = get_county_data(state)\n",
    "    return county_index.set_index('County').to_dict()['CountyId']\n",
    "\n",
    "def get_id_to_county(state):\n",
    "    county_index = get_county_data(state)\n",
    "    return county_index.set_index('CountyId').to_dict()['County']"
   ]
  },
  {
   "cell_type": "code",
   "execution_count": null,
   "metadata": {
    "collapsed": false
   },
   "outputs": [],
   "source": [
    "get_county_to_id('AK')"
   ]
  },
  {
   "cell_type": "code",
   "execution_count": null,
   "metadata": {
    "collapsed": false
   },
   "outputs": [],
   "source": [
    "dir, file = path.split('/test/foo.txt')\n",
    "file[:2]"
   ]
  }
 ],
 "metadata": {
  "anaconda-cloud": {},
  "kernelspec": {
   "display_name": "Python [conda root]",
   "language": "python",
   "name": "conda-root-py"
  },
  "language_info": {
   "codemirror_mode": {
    "name": "ipython",
    "version": 3
   },
   "file_extension": ".py",
   "mimetype": "text/x-python",
   "name": "python",
   "nbconvert_exporter": "python",
   "pygments_lexer": "ipython3",
   "version": "3.5.2"
  }
 },
 "nbformat": 4,
 "nbformat_minor": 1
}
