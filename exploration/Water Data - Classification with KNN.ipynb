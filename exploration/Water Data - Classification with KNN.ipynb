{
 "cells": [
  {
   "cell_type": "markdown",
   "metadata": {},
   "source": [
    "Note: A good resource for this is our W 207 Homewor Project 1."
   ]
  },
  {
   "cell_type": "code",
   "execution_count": 19,
   "metadata": {
    "collapsed": true
   },
   "outputs": [],
   "source": [
    "import time\n",
    "import numpy as np\n",
    "import pandas as pd\n",
    "\n",
    "from sklearn.datasets import fetch_mldata\n",
    "from sklearn.neighbors import KNeighborsClassifier\n",
    "from sklearn.cross_validation import train_test_split"
   ]
  },
  {
   "cell_type": "code",
   "execution_count": 11,
   "metadata": {
    "collapsed": false
   },
   "outputs": [
    {
     "name": "stdout",
     "output_type": "stream",
     "text": [
      "Water Data KNN.ipynb     dailydata.csv            warning_level_data_2.csv\r\n"
     ]
    }
   ],
   "source": [
    "# check what are the other files in the current working directory, \n",
    "# to make sure you can read in the file from here\n",
    "\n",
    "!ls"
   ]
  },
  {
   "cell_type": "code",
   "execution_count": 12,
   "metadata": {
    "collapsed": false
   },
   "outputs": [],
   "source": [
    "# read in the file\n",
    "\n",
    "data = pd.read_csv('warning_level_data_2.csv', header = 0)"
   ]
  },
  {
   "cell_type": "code",
   "execution_count": 13,
   "metadata": {
    "collapsed": false
   },
   "outputs": [
    {
     "data": {
      "text/html": [
       "<div>\n",
       "<table border=\"1\" class=\"dataframe\">\n",
       "  <thead>\n",
       "    <tr style=\"text-align: right;\">\n",
       "      <th></th>\n",
       "      <th>LocationIdentifier</th>\n",
       "      <th>Latitude</th>\n",
       "      <th>Longitude</th>\n",
       "      <th>StartDate</th>\n",
       "      <th>Pollutant</th>\n",
       "      <th>WarningCode</th>\n",
       "      <th>WarningLevel</th>\n",
       "    </tr>\n",
       "  </thead>\n",
       "  <tbody>\n",
       "    <tr>\n",
       "      <th>0</th>\n",
       "      <td>11NPSWRD_WQX-PORE_319_EU-L</td>\n",
       "      <td>37.970285</td>\n",
       "      <td>-122.727744</td>\n",
       "      <td>2012-01-23</td>\n",
       "      <td>Nitrate</td>\n",
       "      <td>0.0</td>\n",
       "      <td>Green</td>\n",
       "    </tr>\n",
       "    <tr>\n",
       "      <th>1</th>\n",
       "      <td>11NPSWRD_WQX-PORE_319_EU-L</td>\n",
       "      <td>37.970285</td>\n",
       "      <td>-122.727744</td>\n",
       "      <td>2012-03-13</td>\n",
       "      <td>Nitrate</td>\n",
       "      <td>0.0</td>\n",
       "      <td>Green</td>\n",
       "    </tr>\n",
       "    <tr>\n",
       "      <th>2</th>\n",
       "      <td>11NPSWRD_WQX-PORE_319_EU-L</td>\n",
       "      <td>37.970285</td>\n",
       "      <td>-122.727744</td>\n",
       "      <td>2012-11-28</td>\n",
       "      <td>Nitrate</td>\n",
       "      <td>0.0</td>\n",
       "      <td>Green</td>\n",
       "    </tr>\n",
       "    <tr>\n",
       "      <th>3</th>\n",
       "      <td>11NPSWRD_WQX-PORE_319_EU-L</td>\n",
       "      <td>37.970285</td>\n",
       "      <td>-122.727744</td>\n",
       "      <td>2014-02-09</td>\n",
       "      <td>Nitrate</td>\n",
       "      <td>0.0</td>\n",
       "      <td>Green</td>\n",
       "    </tr>\n",
       "    <tr>\n",
       "      <th>4</th>\n",
       "      <td>11NPSWRD_WQX-PORE_319_EU-L</td>\n",
       "      <td>37.970285</td>\n",
       "      <td>-122.727744</td>\n",
       "      <td>2014-02-11</td>\n",
       "      <td>Nitrate</td>\n",
       "      <td>0.0</td>\n",
       "      <td>Green</td>\n",
       "    </tr>\n",
       "    <tr>\n",
       "      <th>5</th>\n",
       "      <td>11NPSWRD_WQX-PORE_319_EU-L</td>\n",
       "      <td>37.970285</td>\n",
       "      <td>-122.727744</td>\n",
       "      <td>2014-02-27</td>\n",
       "      <td>Nitrate</td>\n",
       "      <td>0.0</td>\n",
       "      <td>Green</td>\n",
       "    </tr>\n",
       "    <tr>\n",
       "      <th>6</th>\n",
       "      <td>11NPSWRD_WQX-PORE_319_EU-U</td>\n",
       "      <td>37.971577</td>\n",
       "      <td>-122.725178</td>\n",
       "      <td>2012-01-23</td>\n",
       "      <td>Nitrate</td>\n",
       "      <td>0.0</td>\n",
       "      <td>Green</td>\n",
       "    </tr>\n",
       "    <tr>\n",
       "      <th>7</th>\n",
       "      <td>11NPSWRD_WQX-PORE_319_EU-U</td>\n",
       "      <td>37.971577</td>\n",
       "      <td>-122.725178</td>\n",
       "      <td>2012-03-13</td>\n",
       "      <td>Nitrate</td>\n",
       "      <td>0.0</td>\n",
       "      <td>Green</td>\n",
       "    </tr>\n",
       "    <tr>\n",
       "      <th>8</th>\n",
       "      <td>11NPSWRD_WQX-PORE_319_EU-U</td>\n",
       "      <td>37.971577</td>\n",
       "      <td>-122.725178</td>\n",
       "      <td>2014-02-09</td>\n",
       "      <td>Nitrate</td>\n",
       "      <td>0.0</td>\n",
       "      <td>Green</td>\n",
       "    </tr>\n",
       "    <tr>\n",
       "      <th>9</th>\n",
       "      <td>11NPSWRD_WQX-PORE_319_EU-U</td>\n",
       "      <td>37.971577</td>\n",
       "      <td>-122.725178</td>\n",
       "      <td>2014-02-11</td>\n",
       "      <td>Nitrate</td>\n",
       "      <td>0.0</td>\n",
       "      <td>Green</td>\n",
       "    </tr>\n",
       "  </tbody>\n",
       "</table>\n",
       "</div>"
      ],
      "text/plain": [
       "           LocationIdentifier   Latitude   Longitude   StartDate Pollutant  \\\n",
       "0  11NPSWRD_WQX-PORE_319_EU-L  37.970285 -122.727744  2012-01-23   Nitrate   \n",
       "1  11NPSWRD_WQX-PORE_319_EU-L  37.970285 -122.727744  2012-03-13   Nitrate   \n",
       "2  11NPSWRD_WQX-PORE_319_EU-L  37.970285 -122.727744  2012-11-28   Nitrate   \n",
       "3  11NPSWRD_WQX-PORE_319_EU-L  37.970285 -122.727744  2014-02-09   Nitrate   \n",
       "4  11NPSWRD_WQX-PORE_319_EU-L  37.970285 -122.727744  2014-02-11   Nitrate   \n",
       "5  11NPSWRD_WQX-PORE_319_EU-L  37.970285 -122.727744  2014-02-27   Nitrate   \n",
       "6  11NPSWRD_WQX-PORE_319_EU-U  37.971577 -122.725178  2012-01-23   Nitrate   \n",
       "7  11NPSWRD_WQX-PORE_319_EU-U  37.971577 -122.725178  2012-03-13   Nitrate   \n",
       "8  11NPSWRD_WQX-PORE_319_EU-U  37.971577 -122.725178  2014-02-09   Nitrate   \n",
       "9  11NPSWRD_WQX-PORE_319_EU-U  37.971577 -122.725178  2014-02-11   Nitrate   \n",
       "\n",
       "   WarningCode WarningLevel  \n",
       "0          0.0        Green  \n",
       "1          0.0        Green  \n",
       "2          0.0        Green  \n",
       "3          0.0        Green  \n",
       "4          0.0        Green  \n",
       "5          0.0        Green  \n",
       "6          0.0        Green  \n",
       "7          0.0        Green  \n",
       "8          0.0        Green  \n",
       "9          0.0        Green  "
      ]
     },
     "execution_count": 13,
     "metadata": {},
     "output_type": "execute_result"
    }
   ],
   "source": [
    "data[:10]"
   ]
  },
  {
   "cell_type": "code",
   "execution_count": 14,
   "metadata": {
    "collapsed": true
   },
   "outputs": [],
   "source": [
    "data['StartDate'] = pd.to_datetime(data['StartDate'])"
   ]
  },
  {
   "cell_type": "code",
   "execution_count": 21,
   "metadata": {
    "collapsed": false
   },
   "outputs": [
    {
     "ename": "TypeError",
     "evalue": "unhashable type",
     "output_type": "error",
     "traceback": [
      "\u001b[0;31m---------------------------------------------------------------------------\u001b[0m",
      "\u001b[0;31mTypeError\u001b[0m                                 Traceback (most recent call last)",
      "\u001b[0;32m<ipython-input-21-68280d1b5a2f>\u001b[0m in \u001b[0;36m<module>\u001b[0;34m()\u001b[0m\n\u001b[1;32m      1\u001b[0m \u001b[0;31m# create design matrix X and target vector y\u001b[0m\u001b[0;34m\u001b[0m\u001b[0;34m\u001b[0m\u001b[0m\n\u001b[0;32m----> 2\u001b[0;31m \u001b[0mX\u001b[0m \u001b[0;34m=\u001b[0m \u001b[0mnp\u001b[0m\u001b[0;34m.\u001b[0m\u001b[0marray\u001b[0m\u001b[0;34m(\u001b[0m\u001b[0mdata\u001b[0m\u001b[0;34m[\u001b[0m\u001b[0;34m:\u001b[0m\u001b[0;34m,\u001b[0m \u001b[0;36m1\u001b[0m\u001b[0;34m:\u001b[0m\u001b[0;36m3\u001b[0m\u001b[0;34m]\u001b[0m\u001b[0;34m)\u001b[0m      \u001b[0;31m# end index is exclusive\u001b[0m\u001b[0;34m\u001b[0m\u001b[0m\n\u001b[0m\u001b[1;32m      3\u001b[0m \u001b[0my\u001b[0m \u001b[0;34m=\u001b[0m \u001b[0mnp\u001b[0m\u001b[0;34m.\u001b[0m\u001b[0marray\u001b[0m\u001b[0;34m(\u001b[0m\u001b[0mdata\u001b[0m\u001b[0;34m[\u001b[0m\u001b[0;34m'WarningLevel'\u001b[0m\u001b[0;34m]\u001b[0m\u001b[0;34m)\u001b[0m      \u001b[0;31m# another way of indexing a pandas df\u001b[0m\u001b[0;34m\u001b[0m\u001b[0m\n\u001b[1;32m      4\u001b[0m \u001b[0;34m\u001b[0m\u001b[0m\n\u001b[1;32m      5\u001b[0m \u001b[0;31m# split into train and test\u001b[0m\u001b[0;34m\u001b[0m\u001b[0;34m\u001b[0m\u001b[0m\n",
      "\u001b[0;32m/Users/ninakuklisova/miniconda2/envs/jupi/lib/python2.7/site-packages/pandas/core/frame.pyc\u001b[0m in \u001b[0;36m__getitem__\u001b[0;34m(self, key)\u001b[0m\n\u001b[1;32m   1990\u001b[0m             \u001b[0;32mreturn\u001b[0m \u001b[0mself\u001b[0m\u001b[0;34m.\u001b[0m\u001b[0m_getitem_multilevel\u001b[0m\u001b[0;34m(\u001b[0m\u001b[0mkey\u001b[0m\u001b[0;34m)\u001b[0m\u001b[0;34m\u001b[0m\u001b[0m\n\u001b[1;32m   1991\u001b[0m         \u001b[0;32melse\u001b[0m\u001b[0;34m:\u001b[0m\u001b[0;34m\u001b[0m\u001b[0m\n\u001b[0;32m-> 1992\u001b[0;31m             \u001b[0;32mreturn\u001b[0m \u001b[0mself\u001b[0m\u001b[0;34m.\u001b[0m\u001b[0m_getitem_column\u001b[0m\u001b[0;34m(\u001b[0m\u001b[0mkey\u001b[0m\u001b[0;34m)\u001b[0m\u001b[0;34m\u001b[0m\u001b[0m\n\u001b[0m\u001b[1;32m   1993\u001b[0m \u001b[0;34m\u001b[0m\u001b[0m\n\u001b[1;32m   1994\u001b[0m     \u001b[0;32mdef\u001b[0m \u001b[0m_getitem_column\u001b[0m\u001b[0;34m(\u001b[0m\u001b[0mself\u001b[0m\u001b[0;34m,\u001b[0m \u001b[0mkey\u001b[0m\u001b[0;34m)\u001b[0m\u001b[0;34m:\u001b[0m\u001b[0;34m\u001b[0m\u001b[0m\n",
      "\u001b[0;32m/Users/ninakuklisova/miniconda2/envs/jupi/lib/python2.7/site-packages/pandas/core/frame.pyc\u001b[0m in \u001b[0;36m_getitem_column\u001b[0;34m(self, key)\u001b[0m\n\u001b[1;32m   1997\u001b[0m         \u001b[0;31m# get column\u001b[0m\u001b[0;34m\u001b[0m\u001b[0;34m\u001b[0m\u001b[0m\n\u001b[1;32m   1998\u001b[0m         \u001b[0;32mif\u001b[0m \u001b[0mself\u001b[0m\u001b[0;34m.\u001b[0m\u001b[0mcolumns\u001b[0m\u001b[0;34m.\u001b[0m\u001b[0mis_unique\u001b[0m\u001b[0;34m:\u001b[0m\u001b[0;34m\u001b[0m\u001b[0m\n\u001b[0;32m-> 1999\u001b[0;31m             \u001b[0;32mreturn\u001b[0m \u001b[0mself\u001b[0m\u001b[0;34m.\u001b[0m\u001b[0m_get_item_cache\u001b[0m\u001b[0;34m(\u001b[0m\u001b[0mkey\u001b[0m\u001b[0;34m)\u001b[0m\u001b[0;34m\u001b[0m\u001b[0m\n\u001b[0m\u001b[1;32m   2000\u001b[0m \u001b[0;34m\u001b[0m\u001b[0m\n\u001b[1;32m   2001\u001b[0m         \u001b[0;31m# duplicate columns & possible reduce dimensionality\u001b[0m\u001b[0;34m\u001b[0m\u001b[0;34m\u001b[0m\u001b[0m\n",
      "\u001b[0;32m/Users/ninakuklisova/miniconda2/envs/jupi/lib/python2.7/site-packages/pandas/core/generic.pyc\u001b[0m in \u001b[0;36m_get_item_cache\u001b[0;34m(self, item)\u001b[0m\n\u001b[1;32m   1341\u001b[0m         \u001b[0;34m\"\"\"Return the cached item, item represents a label indexer.\"\"\"\u001b[0m\u001b[0;34m\u001b[0m\u001b[0m\n\u001b[1;32m   1342\u001b[0m         \u001b[0mcache\u001b[0m \u001b[0;34m=\u001b[0m \u001b[0mself\u001b[0m\u001b[0;34m.\u001b[0m\u001b[0m_item_cache\u001b[0m\u001b[0;34m\u001b[0m\u001b[0m\n\u001b[0;32m-> 1343\u001b[0;31m         \u001b[0mres\u001b[0m \u001b[0;34m=\u001b[0m \u001b[0mcache\u001b[0m\u001b[0;34m.\u001b[0m\u001b[0mget\u001b[0m\u001b[0;34m(\u001b[0m\u001b[0mitem\u001b[0m\u001b[0;34m)\u001b[0m\u001b[0;34m\u001b[0m\u001b[0m\n\u001b[0m\u001b[1;32m   1344\u001b[0m         \u001b[0;32mif\u001b[0m \u001b[0mres\u001b[0m \u001b[0;32mis\u001b[0m \u001b[0mNone\u001b[0m\u001b[0;34m:\u001b[0m\u001b[0;34m\u001b[0m\u001b[0m\n\u001b[1;32m   1345\u001b[0m             \u001b[0mvalues\u001b[0m \u001b[0;34m=\u001b[0m \u001b[0mself\u001b[0m\u001b[0;34m.\u001b[0m\u001b[0m_data\u001b[0m\u001b[0;34m.\u001b[0m\u001b[0mget\u001b[0m\u001b[0;34m(\u001b[0m\u001b[0mitem\u001b[0m\u001b[0;34m)\u001b[0m\u001b[0;34m\u001b[0m\u001b[0m\n",
      "\u001b[0;31mTypeError\u001b[0m: unhashable type"
     ]
    }
   ],
   "source": [
    "# create design matrix X and target vector y\n",
    "X = np.array(data[:, 1:3]) \t# end index is exclusive\n",
    "y = np.array(data['WarningLevel']) \t# another way of indexing a pandas df\n",
    "\n",
    "# split into train and test\n",
    "X_train, X_test, y_train, y_test = train_test_split(X, y, test_size=0.33, random_state=42)\n",
    "\n",
    "# after this works, we can just run KNN for different values of K and see how it performs.\n",
    "\n",
    "# instantiate learning model (k)\n",
    "def knn_training(k, X_train, y_train):\n",
    "    knn = KNeighborsClassifier(n_neighbors=k)\n",
    "\n",
    "    # fitting the model\n",
    "    knn.fit(X_train, y_train)\n",
    "\n",
    "    # predict the response\n",
    "    pred = knn.predict(X_test)\n",
    "\n",
    "    # evaluate accuracy\n",
    "    print 'For ', k, ' nearest neighbors, the accuracy is:'\n",
    "    print accuracy_score(y_test, pred)\n",
    "    \n",
    "k_vals = [2, 4, 6, 8, 10]\n",
    "\n",
    "for i in k_vals:\n",
    "    knn_training(i, X_train, y_train)"
   ]
  },
  {
   "cell_type": "code",
   "execution_count": null,
   "metadata": {
    "collapsed": true
   },
   "outputs": [],
   "source": []
  }
 ],
 "metadata": {
  "kernelspec": {
   "display_name": "Python 2",
   "language": "python",
   "name": "python2"
  },
  "language_info": {
   "codemirror_mode": {
    "name": "ipython",
    "version": 2
   },
   "file_extension": ".py",
   "mimetype": "text/x-python",
   "name": "python",
   "nbconvert_exporter": "python",
   "pygments_lexer": "ipython2",
   "version": "2.7.11"
  }
 },
 "nbformat": 4,
 "nbformat_minor": 0
}
