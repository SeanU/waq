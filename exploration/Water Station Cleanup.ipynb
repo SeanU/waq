{
 "cells": [
  {
   "cell_type": "code",
   "execution_count": 33,
   "metadata": {
    "collapsed": true
   },
   "outputs": [],
   "source": [
    "import csv\n",
    "import pandas as pd\n",
    "\n",
    "from os import path"
   ]
  },
  {
   "cell_type": "code",
   "execution_count": 18,
   "metadata": {
    "collapsed": true
   },
   "outputs": [],
   "source": [
    "rootdir = '../data/water'\n",
    "\n",
    "input_file = 'CA-station.csv'\n",
    "county_file = 'CA-county-codes.csv'\n",
    "\n",
    "input_base = path.splitext(input_file)[0]\n",
    "\n",
    "input_path = path.join(rootdir, input_file)\n",
    "county_path = path.join(rootdir, county_file)\n",
    "output_path = path.join(rootdir, input_base + \"-clean.csv\")"
   ]
  },
  {
   "cell_type": "code",
   "execution_count": 7,
   "metadata": {
    "collapsed": false
   },
   "outputs": [
    {
     "name": "stdout",
     "output_type": "stream",
     "text": [
      "Reading from ../data/water/CA-station.csv. . .\n",
      "Read 133823 rows\n"
     ]
    }
   ],
   "source": [
    "print(\"Reading from {}. . .\".format(input_path))\n",
    "data = pd.read_csv(input_path,                      \n",
    "                   dtype={\"HUCEightDigitCode\": object}, \n",
    "                   low_memory=False)\n",
    "print(\"Read {0} rows\".format(len(data)))"
   ]
  },
  {
   "cell_type": "code",
   "execution_count": 9,
   "metadata": {
    "collapsed": false
   },
   "outputs": [
    {
     "name": "stdout",
     "output_type": "stream",
     "text": [
      "Inverting positive longitudes. . .\n",
      "138 locations teleported from China.\n"
     ]
    }
   ],
   "source": [
    "# Some stations have an incorrect sign on the longitude\n",
    "print(\"Inverting positive longitudes. . .\")\n",
    "data.ix[data.LongitudeMeasure > 0, \"Edits\"] = \"Inverted Longitude\"\n",
    "data.ix[data.LongitudeMeasure > 0, \"LongitudeMeasure\"] *= -1\n",
    "print(\"{0} locations teleported from China.\".format(len(data.ix[data.Edits == \"Inverted Longitude\"])))"
   ]
  },
  {
   "cell_type": "code",
   "execution_count": 25,
   "metadata": {
    "collapsed": false
   },
   "outputs": [
    {
     "name": "stdout",
     "output_type": "stream",
     "text": [
      "Reading counties from ../data/water/CA-county-codes.csv. . .\n"
     ]
    }
   ],
   "source": [
    "print(\"Reading counties from {}. . .\".format(county_path))\n",
    "county = pd.read_csv(county_path)"
   ]
  },
  {
   "cell_type": "code",
   "execution_count": 30,
   "metadata": {
    "collapsed": false
   },
   "outputs": [
    {
     "name": "stdout",
     "output_type": "stream",
     "text": [
      "439 stations have no county\n"
     ]
    }
   ],
   "source": [
    "merged = pd.merge(data, county, on='CountyCode', how='left')\n",
    "\n",
    "noCounty = merged.ix[pd.isnull(merged.CountyName)]\n",
    "print(\"{} stations have no county\".format(len(noCounty)))"
   ]
  },
  {
   "cell_type": "code",
   "execution_count": 32,
   "metadata": {
    "collapsed": false
   },
   "outputs": [],
   "source": [
    "merged = merged[['OrganizationFormalName',\n",
    "                 'MonitoringLocationIdentifier', \n",
    "                 'MonitoringLocationName',\n",
    "                 'MonitoringLocationTypeName', \n",
    "                 'MonitoringLocationDescriptionText',\n",
    "                 'HUCEightDigitCode', \n",
    "                 'DrainageAreaMeasure/MeasureValue',\n",
    "                 'DrainageAreaMeasure/MeasureUnitCode',\n",
    "                 'ContributingDrainageAreaMeasure/MeasureValue',\n",
    "                 'ContributingDrainageAreaMeasure/MeasureUnitCode', \n",
    "                 'LatitudeMeasure',\n",
    "                 'LongitudeMeasure', \n",
    "                 'VerticalMeasure/MeasureValue', \n",
    "                 'VerticalMeasure/MeasureUnitCode',\n",
    "                 'StateCode_x', \n",
    "                 'CountyCode', \n",
    "                 'CountyName', \n",
    "                 'AquiferName', \n",
    "                 'FormationTypeText',\n",
    "                 'AquiferTypeName', \n",
    "                 'ProviderName', \n",
    "                 'Edits']]\n",
    "\n",
    "merged.columns = ['Organization',                 \n",
    "                  'MonitoringLocationId',\n",
    "                  'MonitoringLocationName',\n",
    "                  'MonitoringLocationType',\n",
    "                  'MonitoringLocationDescription',\n",
    "                  'HUC', \n",
    "                  'DrainageArea',\n",
    "                  'DrainageAreaUnit',\n",
    "                  'ContributingDrainageArea',\n",
    "                  'ContributingDrainageAreaUnit', \n",
    "                  'Latitude',\n",
    "                  'Longitude', \n",
    "                  'VerticalMeasure', \n",
    "                  'VerticalMeasureUnit',\n",
    "                  'StateCode', \n",
    "                  'CountyCode', \n",
    "                  'CountyName', \n",
    "                  'AquiferName', \n",
    "                  'FormationType',\n",
    "                  'AquiferType', \n",
    "                  'Provider', \n",
    "                  'Edits']"
   ]
  },
  {
   "cell_type": "code",
   "execution_count": 34,
   "metadata": {
    "collapsed": false
   },
   "outputs": [
    {
     "name": "stdout",
     "output_type": "stream",
     "text": [
      "Saving data to ../data/water/CA-station-clean.csv. . .\n"
     ]
    }
   ],
   "source": [
    "print(\"Saving data to {}. . .\".format(output_path))\n",
    "merged.to_csv(output_path, index=False, quoting = csv.QUOTE_ALL)"
   ]
  }
 ],
 "metadata": {
  "kernelspec": {
   "display_name": "Python [conda root]",
   "language": "python",
   "name": "conda-root-py"
  },
  "language_info": {
   "codemirror_mode": {
    "name": "ipython",
    "version": 3
   },
   "file_extension": ".py",
   "mimetype": "text/x-python",
   "name": "python",
   "nbconvert_exporter": "python",
   "pygments_lexer": "ipython3",
   "version": "3.5.2"
  }
 },
 "nbformat": 4,
 "nbformat_minor": 1
}
