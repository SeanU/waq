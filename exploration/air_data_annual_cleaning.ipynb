{
 "cells": [
  {
   "cell_type": "code",
   "execution_count": 35,
   "metadata": {
    "collapsed": true
   },
   "outputs": [],
   "source": []
  },
  {
   "cell_type": "code",
   "execution_count": 74,
   "metadata": {
    "collapsed": false
   },
   "outputs": [
    {
     "name": "stdout",
     "output_type": "stream",
     "text": [
      "049\tSand Mountain Alabama Agricultural Experiment Station, Crossville, AL 35962\t1\tAlabama\tAir\t2016-05-31\t00:00:00\tGases\tOzone\t0.044111\tamber\t1\t44201\t34.289\t-85.97007\n",
      "073\tNO. B'HAM,SOU R.R., 3009 28TH ST. NO.\t1\tAlabama\tAir\t2016-06-06\t00:00:00\tGases\tCarbon monoxide\t0.21004\tgreen\t1\t42101\t33.553056\t-86.815\n",
      "073\tNO. B'HAM,SOU R.R., 3009 28TH ST. NO.\t1\tAlabama\tAir\t2016-06-06\t00:00:00\tGases\tSulfur dioxide\t0.85831\tgreen\t1\t42401\t33.553056\t-86.815\n",
      "073\tNO. B'HAM,SOU R.R., 3009 28TH ST. NO.\t1\tAlabama\tAir\t2016-06-06\t00:00:00\tGases\tOzone\t0.04781\tamber\t1\t44201\t33.553056\t-86.815\n",
      "073\tNO. B'HAM,SOU R.R., 3009 28TH ST. NO.\t1\tAlabama\tAir\t2016-06-06\t00:00:00\tGases\tPM10 Total 0-10um STP\t16.043898\tgreen\t1\t81102\t33.553056\t-86.815\n",
      "073\tNO. B'HAM,SOU R.R., 3009 28TH ST. NO.\t1\tAlabama\tAir\t2016-06-06\t00:00:00\tGases\tPM10 Total 0-10um STP\t16.043898\tgreen\t1\t81102\t33.553056\t-86.815\n",
      "073\tNO. B'HAM,SOU R.R., 3009 28TH ST. NO.\t1\tAlabama\tAir\t2016-06-06\t00:00:00\tGases\tPM2.5 - Local Conditions\t9.254396\tgreen\t1\t88101\t33.553056\t-86.815\n",
      "073\tNO. B'HAM,SOU R.R., 3009 28TH ST. NO.\t1\tAlabama\tAir\t2016-06-06\t00:00:00\tGases\tPM2.5 - Local Conditions\t9.254396\tgreen\t1\t88101\t33.553056\t-86.815\n",
      "073\tFAIRFIELD, PFD, 5229 COURT B\t1\tAlabama\tAir\t2016-06-06\t00:00:00\tGases\tCarbon monoxide\t0.337319\tgreen\t1\t42101\t33.485556\t-86.915\n",
      "073\tFAIRFIELD, PFD, 5229 COURT B\t1\tAlabama\tAir\t2016-06-06\t00:00:00\tGases\tSulfur dioxide\t1.477568\tgreen\t1\t42401\t33.485556\t-86.915\n",
      "073\tFAIRFIELD, PFD, 5229 COURT B\t1\tAlabama\tAir\t2016-06-06\t00:00:00\tGases\tOzone\t0.046651\tamber\t1\t44201\t33.485556\t-86.915\n",
      "073\t ROUTE 8 MCADORY\t1\tAlabama\tAir\t2016-06-06\t00:00:00\tGases\tOzone\t0.047079\tamber\t1\t44201\t33.331111\t-87.003611\n",
      "073\t ROUTE 8 MCADORY\t1\tAlabama\tAir\t2016-06-06\t00:00:00\tGases\tAcceptable PM2.5 AQI & Speciation Mass\t8.312452\tgreen\t1\t88502\t33.331111\t-87.003611\n",
      "073\t ROUTE 8 MCADORY\t1\tAlabama\tAir\t2016-06-06\t00:00:00\tGases\tAcceptable PM2.5 AQI & Speciation Mass\t8.267105\tgreen\t1\t88502\t33.331111\t-87.003611\n",
      "073\t 201 ASHVILLE ROAD\t1\tAlabama\tAir\t2016-06-06\t00:00:00\tGases\tOzone\t0.047917\tamber\t1\t44201\t33.545278\t-86.549167\n"
     ]
    }
   ],
   "source": [
    "import sys\n",
    "import csv\n",
    "\n",
    "input_file = 'sample_100.csv'\n",
    "\n",
    "for line in csv.reader(open(input_file, 'rb'), quotechar='\"', delimiter=',', quoting=csv.QUOTE_ALL):\n",
    "    if (\"State\" not in line[0]):\n",
    "        cont_id = int(line[3])\n",
    "        if (cont_id in (42101,42401,42602,44201,81102,88101,88502)):\n",
    "            metric = line[11]\n",
    "            if (metric == \"Observed Values\" or metric == \"Obseved hourly values\" or metric == \"Daily maximum of 8-hour running average\"):\n",
    "                value = float(line[27])\n",
    "                status=\"\"\n",
    "                if(cont_id == 44201):\n",
    "                    # Ozone\n",
    "                    if (value > 0.164):\n",
    "                        status = \"red\"\n",
    "                    elif (value > 0 and value < 0.164):\n",
    "                        status = \"amber\"\n",
    "\n",
    "                elif(cont_id == 42401):\n",
    "                    # SO2\n",
    "                    if (value > 185):\n",
    "                        status = \"red\"\n",
    "                    elif (value > 35 and value <= 185):\n",
    "                        status = \"amber\"\n",
    "                    elif (value < 35):\n",
    "                        status = \"green\"\n",
    "\n",
    "                elif(cont_id == 42101):\n",
    "                    # CO\n",
    "                    if (value > 12.4):\n",
    "                        status = \"red\"\n",
    "                    elif (value > 4.4 and value <= 12.4):\n",
    "                        status = \"amber\"\n",
    "                    elif (value < 4.4):\n",
    "                        status = \"green\"\n",
    "\n",
    "                elif(cont_id == 42602):\n",
    "                    # NO2\n",
    "                    if (value > 360):\n",
    "                        status = \"red\"\n",
    "                    elif (value > 53 and value <= 360):\n",
    "                        status = \"amber\"\n",
    "                    elif (value < 53):\n",
    "                        status = \"green\"\n",
    "\n",
    "                elif(cont_id == 88101 or cont_id == 88502):\n",
    "                    # PM2.5\n",
    "                    if (value > 55.4):\n",
    "                        status = \"red\"\n",
    "                    elif (value > 12 and value <= 55.4):\n",
    "                        status = \"amber\"\n",
    "                    elif (value < 12):\n",
    "                        status = \"green\"\n",
    "\n",
    "                elif(cont_id == 81102):\n",
    "                    # PM10\n",
    "                    if (value > 253):\n",
    "                        status = \"red\"\n",
    "                    elif (value > 54 and value <= 253):\n",
    "                        status = \"amber\"\n",
    "                    elif (value < 54):\n",
    "                        status = \"green\"\n",
    "\n",
    "                print('\\t'.join((line[1],\n",
    "                                 line[49],\n",
    "                                 str(int(line[0])),\n",
    "                                 line[50],\n",
    "                                 \"Air\",\n",
    "                                 line[54],\n",
    "                                 \"00:00:00\",\n",
    "                                 \"Gases\",\n",
    "                                 line[8],\n",
    "                                 line[27],\n",
    "                                 status,\n",
    "                                 \"1\",\n",
    "                                 line[3],\n",
    "                                 line[5],\n",
    "                                 line[6])))"
   ]
  },
  {
   "cell_type": "code",
   "execution_count": null,
   "metadata": {
    "collapsed": true
   },
   "outputs": [],
   "source": []
  }
 ],
 "metadata": {
  "kernelspec": {
   "display_name": "Python 2",
   "language": "python",
   "name": "python2"
  },
  "language_info": {
   "codemirror_mode": {
    "name": "ipython",
    "version": 2
   },
   "file_extension": ".py",
   "mimetype": "text/x-python",
   "name": "python",
   "nbconvert_exporter": "python",
   "pygments_lexer": "ipython2",
   "version": "2.7.9"
  }
 },
 "nbformat": 4,
 "nbformat_minor": 0
}
