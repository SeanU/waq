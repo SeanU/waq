{
 "cells": [
  {
   "cell_type": "code",
   "execution_count": 28,
   "metadata": {
    "collapsed": true
   },
   "outputs": [],
   "source": [
    "import json\n",
    "import pandas as pd"
   ]
  },
  {
   "cell_type": "code",
   "execution_count": 33,
   "metadata": {
    "collapsed": false
   },
   "outputs": [],
   "source": [
    "with open('../data/osha-limits-raw.json') as jsonfile:\n",
    "    data = json.load(jsonfile)\n",
    "    \n",
    "data = [val for val in data if val[\"substance\"] is not None]\n",
    "\n",
    "def isSubLine(s):\n",
    "    return s.startswith('Total d') or s.startswith(\"Respirable\")\n",
    "    \n",
    "def getRealSubstance(i):\n",
    "    prev = data[i-1][\"substance\"]\n",
    "    if not isSubLine(prev):\n",
    "        return prev\n",
    "    else:\n",
    "        return getRealSubstance(i-1)\n",
    "    \n",
    "def trimCeilingFlag(s):\n",
    "    if s is None:\n",
    "        return None\n",
    "    elif(s.startswith('(C) ')):\n",
    "        return s[4:]\n",
    "    else:\n",
    "        return s\n",
    "    \n",
    "for i in range(0, len(data)):\n",
    "    cur = data[i]\n",
    "    substance = cur[\"substance\"]\n",
    "\n",
    "    if(isSubLine(substance)):\n",
    "        realSubstance = getRealSubstance(i)\n",
    "        cur[\"substance\"] = realSubstance + \", \" + substance\n",
    "        \n",
    "    cur['pel_mg_m3'] = trimCeilingFlag(cur['pel_mg_m3'])\n",
    "    cur['pel_ppm'] = trimCeilingFlag(cur['pel_ppm'])\n",
    "\n",
    "        \n",
    "data = [val for val in data \n",
    "        if val[\"pel_mg_m3\"] is not None or val[\"pel_ppm\"] is not None]\n",
    "\n",
    "data = pd.DataFrame(data)[['substance', 'cas_no', 'pel_mg_m3', 'pel_ppm']]\n",
    "\n",
    "data.to_csv('../data/osha-limits.csv', index=False, quoting=1)"
   ]
  }
 ],
 "metadata": {
  "anaconda-cloud": {},
  "kernelspec": {
   "display_name": "Python [conda root]",
   "language": "python",
   "name": "conda-root-py"
  },
  "language_info": {
   "codemirror_mode": {
    "name": "ipython",
    "version": 3
   },
   "file_extension": ".py",
   "mimetype": "text/x-python",
   "name": "python",
   "nbconvert_exporter": "python",
   "pygments_lexer": "ipython3",
   "version": "3.5.2"
  }
 },
 "nbformat": 4,
 "nbformat_minor": 1
}
