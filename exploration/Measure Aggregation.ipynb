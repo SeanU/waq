{
 "cells": [
  {
   "cell_type": "code",
   "execution_count": 119,
   "metadata": {
    "collapsed": true
   },
   "outputs": [],
   "source": [
    "%matplotlib inline\n",
    "\n",
    "import csv\n",
    "import pandas as pd"
   ]
  },
  {
   "cell_type": "code",
   "execution_count": 118,
   "metadata": {
    "collapsed": true
   },
   "outputs": [],
   "source": [
    "resultpath = '../data/water/CA-result-clean.csv'\n",
    "measuregrouppath = '../data/water/measuregroup.csv'\n",
    "outputpath = '../data/water/CA-result-withmeasuregroup.csv'"
   ]
  },
  {
   "cell_type": "code",
   "execution_count": 100,
   "metadata": {
    "collapsed": true
   },
   "outputs": [],
   "source": [
    "data = pd.read_csv(resultpath)\n",
    "mcls = pd.read_csv(measuregrouppath, \n",
    "                   usecols=['MeasureGroup', 'Category', 'MCL'])\n",
    "mcls.columns = ['Pollutant', 'Category', 'Mcl']"
   ]
  },
  {
   "cell_type": "markdown",
   "metadata": {},
   "source": [
    "## PCBs"
   ]
  },
  {
   "cell_type": "code",
   "execution_count": 101,
   "metadata": {
    "collapsed": false
   },
   "outputs": [],
   "source": [
    "pcbdata = data.ix[data.PollutantGroup == 'PCBs']\\\n",
    "                .sort_values(['LocationIdentifier', 'StartDate', 'Pollutant'])"
   ]
  },
  {
   "cell_type": "code",
   "execution_count": 102,
   "metadata": {
    "collapsed": false
   },
   "outputs": [
    {
     "data": {
      "text/html": [
       "<div>\n",
       "<table border=\"1\" class=\"dataframe\">\n",
       "  <thead>\n",
       "    <tr style=\"text-align: right;\">\n",
       "      <th></th>\n",
       "      <th></th>\n",
       "      <th>Value</th>\n",
       "      <th>Mclg</th>\n",
       "      <th>ExceedsMclg</th>\n",
       "    </tr>\n",
       "    <tr>\n",
       "      <th>LocationIdentifier</th>\n",
       "      <th>StartDate</th>\n",
       "      <th></th>\n",
       "      <th></th>\n",
       "      <th></th>\n",
       "    </tr>\n",
       "  </thead>\n",
       "  <tbody>\n",
       "    <tr>\n",
       "      <th rowspan=\"2\" valign=\"top\">CALWR_WQX-02N06E11H004M</th>\n",
       "      <th>2006-05-09</th>\n",
       "      <td>0.0</td>\n",
       "      <td>0.0</td>\n",
       "      <td>0.0</td>\n",
       "    </tr>\n",
       "    <tr>\n",
       "      <th>2006-09-13</th>\n",
       "      <td>0.0</td>\n",
       "      <td>0.0</td>\n",
       "      <td>0.0</td>\n",
       "    </tr>\n",
       "  </tbody>\n",
       "</table>\n",
       "</div>"
      ],
      "text/plain": [
       "                                    Value  Mclg  ExceedsMclg\n",
       "LocationIdentifier      StartDate                           \n",
       "CALWR_WQX-02N06E11H004M 2006-05-09    0.0   0.0          0.0\n",
       "                        2006-09-13    0.0   0.0          0.0"
      ]
     },
     "execution_count": 102,
     "metadata": {},
     "output_type": "execute_result"
    }
   ],
   "source": [
    "sums = pcbdata.groupby(['LocationIdentifier', 'StartDate']).sum()\n",
    "sums.head(2)"
   ]
  },
  {
   "cell_type": "code",
   "execution_count": 103,
   "metadata": {
    "collapsed": false
   },
   "outputs": [
    {
     "data": {
      "text/html": [
       "<div>\n",
       "<table border=\"1\" class=\"dataframe\">\n",
       "  <thead>\n",
       "    <tr style=\"text-align: right;\">\n",
       "      <th></th>\n",
       "      <th></th>\n",
       "      <th>Medium</th>\n",
       "      <th>MediumSubdivision</th>\n",
       "      <th>StartTime</th>\n",
       "      <th>TimeZone</th>\n",
       "      <th>Pollutant</th>\n",
       "      <th>PollutantGroup</th>\n",
       "      <th>Unit</th>\n",
       "      <th>Value</th>\n",
       "      <th>Mclg</th>\n",
       "      <th>ExceedsMclg</th>\n",
       "      <th>Comment</th>\n",
       "    </tr>\n",
       "    <tr>\n",
       "      <th>LocationIdentifier</th>\n",
       "      <th>StartDate</th>\n",
       "      <th></th>\n",
       "      <th></th>\n",
       "      <th></th>\n",
       "      <th></th>\n",
       "      <th></th>\n",
       "      <th></th>\n",
       "      <th></th>\n",
       "      <th></th>\n",
       "      <th></th>\n",
       "      <th></th>\n",
       "      <th></th>\n",
       "    </tr>\n",
       "  </thead>\n",
       "  <tbody>\n",
       "    <tr>\n",
       "      <th rowspan=\"2\" valign=\"top\">CALWR_WQX-02N06E11H004M</th>\n",
       "      <th>2006-05-09</th>\n",
       "      <td>Water</td>\n",
       "      <td>NaN</td>\n",
       "      <td>15:42:00</td>\n",
       "      <td>PST</td>\n",
       "      <td>Aroclor 1016</td>\n",
       "      <td>PCBs</td>\n",
       "      <td>mg/L</td>\n",
       "      <td>0.0</td>\n",
       "      <td>0.0</td>\n",
       "      <td>False</td>\n",
       "      <td>NaN</td>\n",
       "    </tr>\n",
       "    <tr>\n",
       "      <th>2006-09-13</th>\n",
       "      <td>Water</td>\n",
       "      <td>NaN</td>\n",
       "      <td>10:10:00</td>\n",
       "      <td>PST</td>\n",
       "      <td>Aroclor 1016</td>\n",
       "      <td>PCBs</td>\n",
       "      <td>mg/L</td>\n",
       "      <td>0.0</td>\n",
       "      <td>0.0</td>\n",
       "      <td>False</td>\n",
       "      <td>NaN</td>\n",
       "    </tr>\n",
       "  </tbody>\n",
       "</table>\n",
       "</div>"
      ],
      "text/plain": [
       "                                   Medium MediumSubdivision StartTime  \\\n",
       "LocationIdentifier      StartDate                                       \n",
       "CALWR_WQX-02N06E11H004M 2006-05-09  Water               NaN  15:42:00   \n",
       "                        2006-09-13  Water               NaN  10:10:00   \n",
       "\n",
       "                                   TimeZone     Pollutant PollutantGroup  \\\n",
       "LocationIdentifier      StartDate                                          \n",
       "CALWR_WQX-02N06E11H004M 2006-05-09      PST  Aroclor 1016           PCBs   \n",
       "                        2006-09-13      PST  Aroclor 1016           PCBs   \n",
       "\n",
       "                                    Unit  Value  Mclg ExceedsMclg Comment  \n",
       "LocationIdentifier      StartDate                                          \n",
       "CALWR_WQX-02N06E11H004M 2006-05-09  mg/L    0.0   0.0       False     NaN  \n",
       "                        2006-09-13  mg/L    0.0   0.0       False     NaN  "
      ]
     },
     "execution_count": 103,
     "metadata": {},
     "output_type": "execute_result"
    }
   ],
   "source": [
    "groups = pcbdata.groupby(['LocationIdentifier', 'StartDate']).first()\n",
    "groups.head(2)"
   ]
  },
  {
   "cell_type": "code",
   "execution_count": 104,
   "metadata": {
    "collapsed": false
   },
   "outputs": [
    {
     "data": {
      "text/html": [
       "<div>\n",
       "<table border=\"1\" class=\"dataframe\">\n",
       "  <thead>\n",
       "    <tr style=\"text-align: right;\">\n",
       "      <th></th>\n",
       "      <th></th>\n",
       "      <th>Medium</th>\n",
       "      <th>MediumSubdivision</th>\n",
       "      <th>StartTime</th>\n",
       "      <th>TimeZone</th>\n",
       "      <th>Pollutant</th>\n",
       "      <th>PollutantGroup</th>\n",
       "      <th>Unit</th>\n",
       "      <th>Comment</th>\n",
       "    </tr>\n",
       "    <tr>\n",
       "      <th>LocationIdentifier</th>\n",
       "      <th>StartDate</th>\n",
       "      <th></th>\n",
       "      <th></th>\n",
       "      <th></th>\n",
       "      <th></th>\n",
       "      <th></th>\n",
       "      <th></th>\n",
       "      <th></th>\n",
       "      <th></th>\n",
       "    </tr>\n",
       "  </thead>\n",
       "  <tbody>\n",
       "    <tr>\n",
       "      <th rowspan=\"2\" valign=\"top\">CALWR_WQX-02N06E11H004M</th>\n",
       "      <th>2006-05-09</th>\n",
       "      <td>Water</td>\n",
       "      <td>NaN</td>\n",
       "      <td>15:42:00</td>\n",
       "      <td>PST</td>\n",
       "      <td>Aroclor 1016</td>\n",
       "      <td>PCBs</td>\n",
       "      <td>mg/L</td>\n",
       "      <td>NaN</td>\n",
       "    </tr>\n",
       "    <tr>\n",
       "      <th>2006-09-13</th>\n",
       "      <td>Water</td>\n",
       "      <td>NaN</td>\n",
       "      <td>10:10:00</td>\n",
       "      <td>PST</td>\n",
       "      <td>Aroclor 1016</td>\n",
       "      <td>PCBs</td>\n",
       "      <td>mg/L</td>\n",
       "      <td>NaN</td>\n",
       "    </tr>\n",
       "  </tbody>\n",
       "</table>\n",
       "</div>"
      ],
      "text/plain": [
       "                                   Medium MediumSubdivision StartTime  \\\n",
       "LocationIdentifier      StartDate                                       \n",
       "CALWR_WQX-02N06E11H004M 2006-05-09  Water               NaN  15:42:00   \n",
       "                        2006-09-13  Water               NaN  10:10:00   \n",
       "\n",
       "                                   TimeZone     Pollutant PollutantGroup  \\\n",
       "LocationIdentifier      StartDate                                          \n",
       "CALWR_WQX-02N06E11H004M 2006-05-09      PST  Aroclor 1016           PCBs   \n",
       "                        2006-09-13      PST  Aroclor 1016           PCBs   \n",
       "\n",
       "                                    Unit Comment  \n",
       "LocationIdentifier      StartDate                 \n",
       "CALWR_WQX-02N06E11H004M 2006-05-09  mg/L     NaN  \n",
       "                        2006-09-13  mg/L     NaN  "
      ]
     },
     "execution_count": 104,
     "metadata": {},
     "output_type": "execute_result"
    }
   ],
   "source": [
    "groups = groups.drop(['Value', 'Mclg', 'ExceedsMclg'], axis=1)\n",
    "groups.head(2)"
   ]
  },
  {
   "cell_type": "code",
   "execution_count": 105,
   "metadata": {
    "collapsed": false
   },
   "outputs": [],
   "source": [
    "pcbs = groups.join(sums).reset_index()\n",
    "pcbs.Pollutant = 'PCBs'"
   ]
  },
  {
   "cell_type": "markdown",
   "metadata": {},
   "source": [
    "## HAA5"
   ]
  },
  {
   "cell_type": "code",
   "execution_count": 106,
   "metadata": {
    "collapsed": false
   },
   "outputs": [],
   "source": [
    "haa5data = data.ix[data.PollutantGroup == 'HAA5']\\\n",
    "                .sort_values(['LocationIdentifier', 'StartDate', 'Pollutant'])"
   ]
  },
  {
   "cell_type": "code",
   "execution_count": 107,
   "metadata": {
    "collapsed": false
   },
   "outputs": [
    {
     "data": {
      "text/html": [
       "<div>\n",
       "<table border=\"1\" class=\"dataframe\">\n",
       "  <thead>\n",
       "    <tr style=\"text-align: right;\">\n",
       "      <th></th>\n",
       "      <th></th>\n",
       "      <th>Value</th>\n",
       "      <th>Mclg</th>\n",
       "      <th>ExceedsMclg</th>\n",
       "    </tr>\n",
       "    <tr>\n",
       "      <th>LocationIdentifier</th>\n",
       "      <th>StartDate</th>\n",
       "      <th></th>\n",
       "      <th></th>\n",
       "      <th></th>\n",
       "    </tr>\n",
       "  </thead>\n",
       "  <tbody>\n",
       "    <tr>\n",
       "      <th rowspan=\"2\" valign=\"top\">CALWR_WQX-11N06E17D001M</th>\n",
       "      <th>2004-05-19</th>\n",
       "      <td>0.0</td>\n",
       "      <td>0.06</td>\n",
       "      <td>0.0</td>\n",
       "    </tr>\n",
       "    <tr>\n",
       "      <th>2004-06-16</th>\n",
       "      <td>0.0</td>\n",
       "      <td>0.06</td>\n",
       "      <td>0.0</td>\n",
       "    </tr>\n",
       "  </tbody>\n",
       "</table>\n",
       "</div>"
      ],
      "text/plain": [
       "                                    Value  Mclg  ExceedsMclg\n",
       "LocationIdentifier      StartDate                           \n",
       "CALWR_WQX-11N06E17D001M 2004-05-19    0.0  0.06          0.0\n",
       "                        2004-06-16    0.0  0.06          0.0"
      ]
     },
     "execution_count": 107,
     "metadata": {},
     "output_type": "execute_result"
    }
   ],
   "source": [
    "sums = haa5data.groupby(['LocationIdentifier', 'StartDate']).sum()\n",
    "sums.head(2)"
   ]
  },
  {
   "cell_type": "code",
   "execution_count": 108,
   "metadata": {
    "collapsed": false
   },
   "outputs": [
    {
     "data": {
      "text/html": [
       "<div>\n",
       "<table border=\"1\" class=\"dataframe\">\n",
       "  <thead>\n",
       "    <tr style=\"text-align: right;\">\n",
       "      <th></th>\n",
       "      <th></th>\n",
       "      <th>Medium</th>\n",
       "      <th>MediumSubdivision</th>\n",
       "      <th>StartTime</th>\n",
       "      <th>TimeZone</th>\n",
       "      <th>Pollutant</th>\n",
       "      <th>PollutantGroup</th>\n",
       "      <th>Unit</th>\n",
       "      <th>Value</th>\n",
       "      <th>Mclg</th>\n",
       "      <th>ExceedsMclg</th>\n",
       "      <th>Comment</th>\n",
       "    </tr>\n",
       "    <tr>\n",
       "      <th>LocationIdentifier</th>\n",
       "      <th>StartDate</th>\n",
       "      <th></th>\n",
       "      <th></th>\n",
       "      <th></th>\n",
       "      <th></th>\n",
       "      <th></th>\n",
       "      <th></th>\n",
       "      <th></th>\n",
       "      <th></th>\n",
       "      <th></th>\n",
       "      <th></th>\n",
       "      <th></th>\n",
       "    </tr>\n",
       "  </thead>\n",
       "  <tbody>\n",
       "    <tr>\n",
       "      <th rowspan=\"2\" valign=\"top\">CALWR_WQX-11N06E17D001M</th>\n",
       "      <th>2004-05-19</th>\n",
       "      <td>Water</td>\n",
       "      <td>NaN</td>\n",
       "      <td>12:10:00</td>\n",
       "      <td>PST</td>\n",
       "      <td>Dibromoacetic acid</td>\n",
       "      <td>HAA5</td>\n",
       "      <td>mg/L</td>\n",
       "      <td>0.0</td>\n",
       "      <td>0.06</td>\n",
       "      <td>False</td>\n",
       "      <td>NaN</td>\n",
       "    </tr>\n",
       "    <tr>\n",
       "      <th>2004-06-16</th>\n",
       "      <td>Water</td>\n",
       "      <td>NaN</td>\n",
       "      <td>14:03:00</td>\n",
       "      <td>PST</td>\n",
       "      <td>Dibromoacetic acid</td>\n",
       "      <td>HAA5</td>\n",
       "      <td>mg/L</td>\n",
       "      <td>0.0</td>\n",
       "      <td>0.06</td>\n",
       "      <td>False</td>\n",
       "      <td>NaN</td>\n",
       "    </tr>\n",
       "  </tbody>\n",
       "</table>\n",
       "</div>"
      ],
      "text/plain": [
       "                                   Medium  MediumSubdivision StartTime  \\\n",
       "LocationIdentifier      StartDate                                        \n",
       "CALWR_WQX-11N06E17D001M 2004-05-19  Water                NaN  12:10:00   \n",
       "                        2004-06-16  Water                NaN  14:03:00   \n",
       "\n",
       "                                   TimeZone           Pollutant  \\\n",
       "LocationIdentifier      StartDate                                 \n",
       "CALWR_WQX-11N06E17D001M 2004-05-19      PST  Dibromoacetic acid   \n",
       "                        2004-06-16      PST  Dibromoacetic acid   \n",
       "\n",
       "                                   PollutantGroup  Unit  Value  Mclg  \\\n",
       "LocationIdentifier      StartDate                                      \n",
       "CALWR_WQX-11N06E17D001M 2004-05-19           HAA5  mg/L    0.0  0.06   \n",
       "                        2004-06-16           HAA5  mg/L    0.0  0.06   \n",
       "\n",
       "                                   ExceedsMclg  Comment  \n",
       "LocationIdentifier      StartDate                        \n",
       "CALWR_WQX-11N06E17D001M 2004-05-19       False      NaN  \n",
       "                        2004-06-16       False      NaN  "
      ]
     },
     "execution_count": 108,
     "metadata": {},
     "output_type": "execute_result"
    }
   ],
   "source": [
    "groups = haa5data.groupby(['LocationIdentifier', 'StartDate']).first()\n",
    "groups.head(2)"
   ]
  },
  {
   "cell_type": "code",
   "execution_count": 109,
   "metadata": {
    "collapsed": false
   },
   "outputs": [
    {
     "data": {
      "text/html": [
       "<div>\n",
       "<table border=\"1\" class=\"dataframe\">\n",
       "  <thead>\n",
       "    <tr style=\"text-align: right;\">\n",
       "      <th></th>\n",
       "      <th></th>\n",
       "      <th>Medium</th>\n",
       "      <th>MediumSubdivision</th>\n",
       "      <th>StartTime</th>\n",
       "      <th>TimeZone</th>\n",
       "      <th>Pollutant</th>\n",
       "      <th>PollutantGroup</th>\n",
       "      <th>Unit</th>\n",
       "      <th>Comment</th>\n",
       "    </tr>\n",
       "    <tr>\n",
       "      <th>LocationIdentifier</th>\n",
       "      <th>StartDate</th>\n",
       "      <th></th>\n",
       "      <th></th>\n",
       "      <th></th>\n",
       "      <th></th>\n",
       "      <th></th>\n",
       "      <th></th>\n",
       "      <th></th>\n",
       "      <th></th>\n",
       "    </tr>\n",
       "  </thead>\n",
       "  <tbody>\n",
       "    <tr>\n",
       "      <th rowspan=\"2\" valign=\"top\">CALWR_WQX-11N06E17D001M</th>\n",
       "      <th>2004-05-19</th>\n",
       "      <td>Water</td>\n",
       "      <td>NaN</td>\n",
       "      <td>12:10:00</td>\n",
       "      <td>PST</td>\n",
       "      <td>Dibromoacetic acid</td>\n",
       "      <td>HAA5</td>\n",
       "      <td>mg/L</td>\n",
       "      <td>NaN</td>\n",
       "    </tr>\n",
       "    <tr>\n",
       "      <th>2004-06-16</th>\n",
       "      <td>Water</td>\n",
       "      <td>NaN</td>\n",
       "      <td>14:03:00</td>\n",
       "      <td>PST</td>\n",
       "      <td>Dibromoacetic acid</td>\n",
       "      <td>HAA5</td>\n",
       "      <td>mg/L</td>\n",
       "      <td>NaN</td>\n",
       "    </tr>\n",
       "  </tbody>\n",
       "</table>\n",
       "</div>"
      ],
      "text/plain": [
       "                                   Medium  MediumSubdivision StartTime  \\\n",
       "LocationIdentifier      StartDate                                        \n",
       "CALWR_WQX-11N06E17D001M 2004-05-19  Water                NaN  12:10:00   \n",
       "                        2004-06-16  Water                NaN  14:03:00   \n",
       "\n",
       "                                   TimeZone           Pollutant  \\\n",
       "LocationIdentifier      StartDate                                 \n",
       "CALWR_WQX-11N06E17D001M 2004-05-19      PST  Dibromoacetic acid   \n",
       "                        2004-06-16      PST  Dibromoacetic acid   \n",
       "\n",
       "                                   PollutantGroup  Unit  Comment  \n",
       "LocationIdentifier      StartDate                                 \n",
       "CALWR_WQX-11N06E17D001M 2004-05-19           HAA5  mg/L      NaN  \n",
       "                        2004-06-16           HAA5  mg/L      NaN  "
      ]
     },
     "execution_count": 109,
     "metadata": {},
     "output_type": "execute_result"
    }
   ],
   "source": [
    "groups = groups.drop(['Value', 'Mclg', 'ExceedsMclg'], axis=1)\n",
    "groups.head(2)"
   ]
  },
  {
   "cell_type": "code",
   "execution_count": 110,
   "metadata": {
    "collapsed": false,
    "scrolled": true
   },
   "outputs": [],
   "source": [
    "haa5 = groups.join(sums).reset_index()\n",
    "haa5.Pollutant = 'HAA5'"
   ]
  },
  {
   "cell_type": "markdown",
   "metadata": {},
   "source": [
    "## TTHMs"
   ]
  },
  {
   "cell_type": "code",
   "execution_count": 111,
   "metadata": {
    "collapsed": false
   },
   "outputs": [],
   "source": [
    "tthmdata = data.ix[data.PollutantGroup == 'TTHMs']\\\n",
    "                .sort_values(['LocationIdentifier', 'StartDate', 'Pollutant'])"
   ]
  },
  {
   "cell_type": "code",
   "execution_count": 112,
   "metadata": {
    "collapsed": false
   },
   "outputs": [
    {
     "data": {
      "text/html": [
       "<div>\n",
       "<table border=\"1\" class=\"dataframe\">\n",
       "  <thead>\n",
       "    <tr style=\"text-align: right;\">\n",
       "      <th></th>\n",
       "      <th></th>\n",
       "      <th>Value</th>\n",
       "      <th>Mclg</th>\n",
       "      <th>ExceedsMclg</th>\n",
       "    </tr>\n",
       "    <tr>\n",
       "      <th>LocationIdentifier</th>\n",
       "      <th>StartDate</th>\n",
       "      <th></th>\n",
       "      <th></th>\n",
       "      <th></th>\n",
       "    </tr>\n",
       "  </thead>\n",
       "  <tbody>\n",
       "    <tr>\n",
       "      <th rowspan=\"2\" valign=\"top\">11NPSWRD-GOGA_ORION_LCC</th>\n",
       "      <th>1994-12-05</th>\n",
       "      <td>0.000049</td>\n",
       "      <td>0.20</td>\n",
       "      <td>0.0</td>\n",
       "    </tr>\n",
       "    <tr>\n",
       "      <th>1995-02-23</th>\n",
       "      <td>0.000103</td>\n",
       "      <td>0.14</td>\n",
       "      <td>0.0</td>\n",
       "    </tr>\n",
       "  </tbody>\n",
       "</table>\n",
       "</div>"
      ],
      "text/plain": [
       "                                       Value  Mclg  ExceedsMclg\n",
       "LocationIdentifier      StartDate                              \n",
       "11NPSWRD-GOGA_ORION_LCC 1994-12-05  0.000049  0.20          0.0\n",
       "                        1995-02-23  0.000103  0.14          0.0"
      ]
     },
     "execution_count": 112,
     "metadata": {},
     "output_type": "execute_result"
    }
   ],
   "source": [
    "sums = tthmdata.groupby(['LocationIdentifier', 'StartDate']).sum()\n",
    "sums.head(2)"
   ]
  },
  {
   "cell_type": "code",
   "execution_count": 113,
   "metadata": {
    "collapsed": false
   },
   "outputs": [
    {
     "data": {
      "text/html": [
       "<div>\n",
       "<table border=\"1\" class=\"dataframe\">\n",
       "  <thead>\n",
       "    <tr style=\"text-align: right;\">\n",
       "      <th></th>\n",
       "      <th></th>\n",
       "      <th>Medium</th>\n",
       "      <th>MediumSubdivision</th>\n",
       "      <th>StartTime</th>\n",
       "      <th>TimeZone</th>\n",
       "      <th>Pollutant</th>\n",
       "      <th>PollutantGroup</th>\n",
       "      <th>Unit</th>\n",
       "      <th>Value</th>\n",
       "      <th>Mclg</th>\n",
       "      <th>ExceedsMclg</th>\n",
       "      <th>Comment</th>\n",
       "    </tr>\n",
       "    <tr>\n",
       "      <th>LocationIdentifier</th>\n",
       "      <th>StartDate</th>\n",
       "      <th></th>\n",
       "      <th></th>\n",
       "      <th></th>\n",
       "      <th></th>\n",
       "      <th></th>\n",
       "      <th></th>\n",
       "      <th></th>\n",
       "      <th></th>\n",
       "      <th></th>\n",
       "      <th></th>\n",
       "      <th></th>\n",
       "    </tr>\n",
       "  </thead>\n",
       "  <tbody>\n",
       "    <tr>\n",
       "      <th rowspan=\"2\" valign=\"top\">11NPSWRD-GOGA_ORION_LCC</th>\n",
       "      <th>1994-12-05</th>\n",
       "      <td>Water</td>\n",
       "      <td>NaN</td>\n",
       "      <td>12:00:00</td>\n",
       "      <td>PST</td>\n",
       "      <td>Chlorodibromomethane</td>\n",
       "      <td>TTHMs</td>\n",
       "      <td>mg/L</td>\n",
       "      <td>0.000002</td>\n",
       "      <td>0.06</td>\n",
       "      <td>False</td>\n",
       "      <td>Old STORET Parameter Code: 32105¶Description: ...</td>\n",
       "    </tr>\n",
       "    <tr>\n",
       "      <th>1995-02-23</th>\n",
       "      <td>Water</td>\n",
       "      <td>NaN</td>\n",
       "      <td>12:00:00</td>\n",
       "      <td>PST</td>\n",
       "      <td>Chloroform</td>\n",
       "      <td>TTHMs</td>\n",
       "      <td>mg/L</td>\n",
       "      <td>0.000051</td>\n",
       "      <td>0.07</td>\n",
       "      <td>False</td>\n",
       "      <td>Old STORET Parameter Code: 32106¶Description: ...</td>\n",
       "    </tr>\n",
       "  </tbody>\n",
       "</table>\n",
       "</div>"
      ],
      "text/plain": [
       "                                   Medium MediumSubdivision StartTime  \\\n",
       "LocationIdentifier      StartDate                                       \n",
       "11NPSWRD-GOGA_ORION_LCC 1994-12-05  Water               NaN  12:00:00   \n",
       "                        1995-02-23  Water               NaN  12:00:00   \n",
       "\n",
       "                                   TimeZone             Pollutant  \\\n",
       "LocationIdentifier      StartDate                                   \n",
       "11NPSWRD-GOGA_ORION_LCC 1994-12-05      PST  Chlorodibromomethane   \n",
       "                        1995-02-23      PST            Chloroform   \n",
       "\n",
       "                                   PollutantGroup  Unit     Value  Mclg  \\\n",
       "LocationIdentifier      StartDate                                         \n",
       "11NPSWRD-GOGA_ORION_LCC 1994-12-05          TTHMs  mg/L  0.000002  0.06   \n",
       "                        1995-02-23          TTHMs  mg/L  0.000051  0.07   \n",
       "\n",
       "                                   ExceedsMclg  \\\n",
       "LocationIdentifier      StartDate                \n",
       "11NPSWRD-GOGA_ORION_LCC 1994-12-05       False   \n",
       "                        1995-02-23       False   \n",
       "\n",
       "                                                                              Comment  \n",
       "LocationIdentifier      StartDate                                                      \n",
       "11NPSWRD-GOGA_ORION_LCC 1994-12-05  Old STORET Parameter Code: 32105¶Description: ...  \n",
       "                        1995-02-23  Old STORET Parameter Code: 32106¶Description: ...  "
      ]
     },
     "execution_count": 113,
     "metadata": {},
     "output_type": "execute_result"
    }
   ],
   "source": [
    "groups = tthmdata.groupby(['LocationIdentifier', 'StartDate']).first()\n",
    "groups.head(2)"
   ]
  },
  {
   "cell_type": "code",
   "execution_count": 114,
   "metadata": {
    "collapsed": false
   },
   "outputs": [
    {
     "data": {
      "text/html": [
       "<div>\n",
       "<table border=\"1\" class=\"dataframe\">\n",
       "  <thead>\n",
       "    <tr style=\"text-align: right;\">\n",
       "      <th></th>\n",
       "      <th></th>\n",
       "      <th>Medium</th>\n",
       "      <th>MediumSubdivision</th>\n",
       "      <th>StartTime</th>\n",
       "      <th>TimeZone</th>\n",
       "      <th>Pollutant</th>\n",
       "      <th>PollutantGroup</th>\n",
       "      <th>Unit</th>\n",
       "      <th>Comment</th>\n",
       "    </tr>\n",
       "    <tr>\n",
       "      <th>LocationIdentifier</th>\n",
       "      <th>StartDate</th>\n",
       "      <th></th>\n",
       "      <th></th>\n",
       "      <th></th>\n",
       "      <th></th>\n",
       "      <th></th>\n",
       "      <th></th>\n",
       "      <th></th>\n",
       "      <th></th>\n",
       "    </tr>\n",
       "  </thead>\n",
       "  <tbody>\n",
       "    <tr>\n",
       "      <th rowspan=\"2\" valign=\"top\">11NPSWRD-GOGA_ORION_LCC</th>\n",
       "      <th>1994-12-05</th>\n",
       "      <td>Water</td>\n",
       "      <td>NaN</td>\n",
       "      <td>12:00:00</td>\n",
       "      <td>PST</td>\n",
       "      <td>Chlorodibromomethane</td>\n",
       "      <td>TTHMs</td>\n",
       "      <td>mg/L</td>\n",
       "      <td>Old STORET Parameter Code: 32105¶Description: ...</td>\n",
       "    </tr>\n",
       "    <tr>\n",
       "      <th>1995-02-23</th>\n",
       "      <td>Water</td>\n",
       "      <td>NaN</td>\n",
       "      <td>12:00:00</td>\n",
       "      <td>PST</td>\n",
       "      <td>Chloroform</td>\n",
       "      <td>TTHMs</td>\n",
       "      <td>mg/L</td>\n",
       "      <td>Old STORET Parameter Code: 32106¶Description: ...</td>\n",
       "    </tr>\n",
       "  </tbody>\n",
       "</table>\n",
       "</div>"
      ],
      "text/plain": [
       "                                   Medium MediumSubdivision StartTime  \\\n",
       "LocationIdentifier      StartDate                                       \n",
       "11NPSWRD-GOGA_ORION_LCC 1994-12-05  Water               NaN  12:00:00   \n",
       "                        1995-02-23  Water               NaN  12:00:00   \n",
       "\n",
       "                                   TimeZone             Pollutant  \\\n",
       "LocationIdentifier      StartDate                                   \n",
       "11NPSWRD-GOGA_ORION_LCC 1994-12-05      PST  Chlorodibromomethane   \n",
       "                        1995-02-23      PST            Chloroform   \n",
       "\n",
       "                                   PollutantGroup  Unit  \\\n",
       "LocationIdentifier      StartDate                         \n",
       "11NPSWRD-GOGA_ORION_LCC 1994-12-05          TTHMs  mg/L   \n",
       "                        1995-02-23          TTHMs  mg/L   \n",
       "\n",
       "                                                                              Comment  \n",
       "LocationIdentifier      StartDate                                                      \n",
       "11NPSWRD-GOGA_ORION_LCC 1994-12-05  Old STORET Parameter Code: 32105¶Description: ...  \n",
       "                        1995-02-23  Old STORET Parameter Code: 32106¶Description: ...  "
      ]
     },
     "execution_count": 114,
     "metadata": {},
     "output_type": "execute_result"
    }
   ],
   "source": [
    "groups = groups.drop(['Value', 'Mclg', 'ExceedsMclg'], axis=1)\n",
    "groups.head(2)"
   ]
  },
  {
   "cell_type": "code",
   "execution_count": 115,
   "metadata": {
    "collapsed": false
   },
   "outputs": [],
   "source": [
    "tthms = groups.join(sums).reset_index()\n",
    "tthms.Pollutant = 'TTHMs'"
   ]
  },
  {
   "cell_type": "markdown",
   "metadata": {},
   "source": [
    "## Re-joining"
   ]
  },
  {
   "cell_type": "code",
   "execution_count": 116,
   "metadata": {
    "collapsed": false
   },
   "outputs": [],
   "source": [
    "nonaggs = data.ix[~data.PollutantGroup.isin(['PCBs', 'HAA5', 'TTHMs'])]\n",
    "rejoined = pd.concat([nonaggs, pcbs, haa5, tthms]).drop('PollutantGroup', axis=1)"
   ]
  },
  {
   "cell_type": "markdown",
   "metadata": {},
   "source": [
    "## MCLs"
   ]
  },
  {
   "cell_type": "code",
   "execution_count": 117,
   "metadata": {
    "collapsed": false
   },
   "outputs": [],
   "source": [
    "withmcls = pd.merge(rejoined, mcls, on=\"Pollutant\")\n",
    "withmcls['ExceedsMcl'] = withmcls.Value > withmcls.Mcl\n",
    "\n",
    "withmcls = withmcls[['LocationIdentifier',\n",
    "                     'Medium',\n",
    "                     'MediumSubdivision',\n",
    "                     'StartDate',\n",
    "                     'StartTime',\n",
    "                     'TimeZone',\n",
    "                     'Category',\n",
    "                     'Pollutant',\n",
    "                     'Unit',\n",
    "                     'Mclg',\n",
    "                     'Mcl',\n",
    "                     'Value',\n",
    "                     'ExceedsMclg',\n",
    "                     'ExceedsMcl',\n",
    "                     'Comment']]"
   ]
  },
  {
   "cell_type": "code",
   "execution_count": 120,
   "metadata": {
    "collapsed": true
   },
   "outputs": [],
   "source": [
    "withmcls.to_csv(outputpath, quoting=csv.QUOTE_ALL, index=False)"
   ]
  },
  {
   "cell_type": "code",
   "execution_count": null,
   "metadata": {
    "collapsed": true
   },
   "outputs": [],
   "source": []
  }
 ],
 "metadata": {
  "anaconda-cloud": {},
  "kernelspec": {
   "display_name": "Python [conda root]",
   "language": "python",
   "name": "conda-root-py"
  },
  "language_info": {
   "codemirror_mode": {
    "name": "ipython",
    "version": 3
   },
   "file_extension": ".py",
   "mimetype": "text/x-python",
   "name": "python",
   "nbconvert_exporter": "python",
   "pygments_lexer": "ipython3",
   "version": "3.5.2"
  }
 },
 "nbformat": 4,
 "nbformat_minor": 1
}
